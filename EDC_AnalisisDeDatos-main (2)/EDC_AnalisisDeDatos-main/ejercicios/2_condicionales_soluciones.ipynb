{
 "cells": [
  {
   "cell_type": "markdown",
   "metadata": {},
   "source": [
    "# Ejercicios: Estructura condicional"
   ]
  },
  {
   "cell_type": "markdown",
   "metadata": {},
   "source": [
    "### Ejercicio 1\n",
    "Escribir un programa que pregunte al usuario su edad y muestre por pantalla si es mayor de edad o no."
   ]
  },
  {
   "cell_type": "code",
   "execution_count": null,
   "metadata": {},
   "outputs": [],
   "source": [
    "# Solución\n",
    "edad = int(input(\"Ingresa tu edad: \"))\n",
    "if(edad>=18):\n",
    "    print(\"Eres mayor de edad\")\n",
    "else:\n",
    "    print(\"No eres mayor de edad\")"
   ]
  },
  {
   "cell_type": "markdown",
   "metadata": {},
   "source": [
    "### Ejercicio 2\n",
    "Escribir un programa que almacene una <span style=\"color:#66D9EF\">contraseña</span> en una variable, pregunte al usuario por la <span style=\"color:#66D9EF\">contraseña</span> e imprima por pantalla si la <span style=\"color:#66D9EF\">contraseña</span> introducida por el usuario coincide con la guardada en la variable sin tener en cuenta mayúsculas y minúsculas."
   ]
  },
  {
   "cell_type": "code",
   "execution_count": 3,
   "metadata": {},
   "outputs": [
    {
     "name": "stdout",
     "output_type": "stream",
     "text": [
      "Contraseña correcta\n",
      "termina\n"
     ]
    }
   ],
   "source": [
    "# Solución\n",
    "contrasenia = \"batman\"\n",
    "password = input(\"Ingresa la contraseña: \")\n",
    "if(contrasenia == password.lower()):\n",
    "    print(\"Contraseña correcta\")\n",
    "print(\"termina\")"
   ]
  },
  {
   "cell_type": "markdown",
   "metadata": {},
   "source": [
    "### Ejercicio 3\n",
    "Escribir un programa que pida al usuario dos números y muestre por pantalla su división. Si el divisor es cero el programa debe mostrar un error."
   ]
  },
  {
   "cell_type": "code",
   "execution_count": 5,
   "metadata": {},
   "outputs": [
    {
     "name": "stdout",
     "output_type": "stream",
     "text": [
      "error\n"
     ]
    }
   ],
   "source": [
    "# Solución\n",
    "n1 = float(input(\"Igresa el primer núemro\"))\n",
    "n2 = float(input(\"Igresa el segundo núemro\"))\n",
    "if ( n2 != 0):\n",
    "    d = n1/n2\n",
    "    print(f\"La divición de {n1}/{n2} = {d}\")\n",
    "else:\n",
    "    print(\"error\")"
   ]
  },
  {
   "cell_type": "markdown",
   "metadata": {},
   "source": [
    "### Ejercicio 4\n",
    "Escribir un programa que pida al usuario un número entero y muestre por pantalla si es par o impar."
   ]
  },
  {
   "cell_type": "code",
   "execution_count": 6,
   "metadata": {},
   "outputs": [
    {
     "name": "stdout",
     "output_type": "stream",
     "text": [
      "8 es par\n"
     ]
    }
   ],
   "source": [
    "# Solución\n",
    "n = int(input(\"Ingresa un número\"))\n",
    "if(n%2==0):\n",
    "    print(f\"{n} es par\")\n",
    "else:\n",
    "    print(f\"{n} es impar\")"
   ]
  },
  {
   "cell_type": "markdown",
   "metadata": {},
   "source": [
    "### Ejercicio 5\n",
    "Para pagar un determinado impuesto se debe ser mayor de 16 años y tener unos ingresos iguales o superiores a $5000 mensuales. Escribir un programa que pregunte al usuario su edad y sus ingresos mensuales y muestre por pantalla si el usuario tiene que pagar o no."
   ]
  },
  {
   "cell_type": "code",
   "execution_count": 8,
   "metadata": {},
   "outputs": [
    {
     "name": "stdout",
     "output_type": "stream",
     "text": [
      "¡¡¡¡¡Tienes que pagar impuestos!!!!!\n"
     ]
    }
   ],
   "source": [
    "# Solución\n",
    "edad = int(input(\"Ingresa tu edad\"))\n",
    "ingreso = float(input(\"Cual es tu ingreso mensual\"))\n",
    "if(edad>16 and ingreso > 5000):\n",
    "    print(\"¡¡¡¡¡Tienes que pagar impuestos!!!!!\")"
   ]
  },
  {
   "cell_type": "markdown",
   "metadata": {},
   "source": [
    "### Ejercicio 6\n",
    "Los alumnos de un curso se han dividido en dos grupos A y B de acuerdo al sexo y el nombre. El grupo A esta formado por las mujeres con un nombre anterior a la M y los hombres con un nombre posterior a la N y el grupo B por el resto. Escribir un programa que pregunte al usuario su nombre y sexo, y muestre por pantalla el grupo que le corresponde."
   ]
  },
  {
   "cell_type": "code",
   "execution_count": 3,
   "metadata": {},
   "outputs": [
    {
     "name": "stdout",
     "output_type": "stream",
     "text": [
      "Perteneces al grupo A\n"
     ]
    }
   ],
   "source": [
    "# Solución\n",
    "sexo = input(\"Ingresa tu genero M/H\")\n",
    "nombre = input(\"Ingresa tu nombre\")\n",
    "if(sexo == \"M\" and nombre[0]<\"M\") or (sexo == \"H\" and nombre[0]>\"N\"):\n",
    "    print(\"Perteneces al grupo A\")\n",
    "else:\n",
    "    print(\"Perteneces al grupo B\")"
   ]
  },
  {
   "cell_type": "markdown",
   "metadata": {},
   "source": [
    "### Ejercicio 7\n",
    "En una determinada empresa, sus empleados son evaluados al final de cada año. Los puntos que pueden obtener en la evaluación comienzan en 0.0 y pueden ir aumentando, traduciéndose en mejores beneficios. Los puntos que pueden conseguir los empleados pueden ser 0.0, 0.4, 0.6 o más, pero no valores intermedios entre las cifras mencionadas. A continuación se muestra una tabla con los niveles correspondientes a cada puntuación. La cantidad de dinero conseguida en cada nivel es de $2,400 multiplicada por la puntuación del nivel.\n",
    "<center>\n",
    "\n",
    "|Nivel|Puntuación|\n",
    "|:-:|:-:|\n",
    "|Inaceptable|0.0|\n",
    "|Aceptable|0.4|\n",
    "|Meritorio|0.6 o más|\n",
    "\n",
    "</center>\n",
    "Escribir un programa que lea la puntuación del usuario e indique su nivel de rendimiento, así como la cantidad de dinero que recibirá el usuario."
   ]
  },
  {
   "cell_type": "code",
   "execution_count": 6,
   "metadata": {},
   "outputs": [
    {
     "name": "stdout",
     "output_type": "stream",
     "text": [
      "Tu nivel de rendimiento es  Meritorio\n",
      "Te corresponde cobrar 1440.0\n"
     ]
    }
   ],
   "source": [
    "# Solución\n",
    "bonificacion = 2400\n",
    "inaceptable = 0\n",
    "aceptable = 0.4\n",
    "meritorio = 0.6\n",
    "puntos = float(input(\"Introduce tu puntuación: \"))\n",
    "# Clasifiación por niveles de rendimiento\n",
    "if puntos == inaceptable:\n",
    "    nivel = \"Inaceptable\"\n",
    "elif puntos == aceptable:\n",
    "    nivel = \"Aceptable\"\n",
    "elif puntos >= 0.6:\n",
    "    nivel = \"Meritorio\"\n",
    "else:\n",
    "    nivel = \"\"\n",
    "# Mostrar nivel de rendimiento\n",
    "if nivel == \"\":\n",
    "    print(\"Esta puntuación no es válida\")\n",
    "else:\n",
    "    print(f\"Tu nivel de rendimiento es  {nivel}\")\n",
    "    print(f\"Te corresponde cobrar {(puntos * bonificacion)}\")"
   ]
  },
  {
   "cell_type": "markdown",
   "metadata": {},
   "source": [
    "### Ejercicio 8\n",
    "Escribir un programa para una empresa que tiene salas de juegos para todas las edades y quiere calcular de forma automática el precio que debe cobrar a sus clientes por entrar. El programa debe preguntar al usuario la edad del cliente y mostrar el precio de la entrada. Si el cliente es menor de 4 años puede entrar gratis, si tiene entre 4 y 18 años debe pagar $5 y si es mayor de 18 años, $10."
   ]
  },
  {
   "cell_type": "code",
   "execution_count": 10,
   "metadata": {},
   "outputs": [
    {
     "name": "stdout",
     "output_type": "stream",
     "text": [
      "La edad es incorrecta\n"
     ]
    }
   ],
   "source": [
    "# Solución\n",
    "edad = int(input(\"Ingresa tu edad\"))\n",
    "if(edad>=0 and edad<4):\n",
    "    print(\"La entrada es gratis\")\n",
    "elif(4<=edad and edad<=18):\n",
    "    print(\"La entrada tiene un precio de $5\")\n",
    "elif(18<edad):\n",
    "    print(\"La entrada tiene un precio de $10\")\n",
    "else:\n",
    "    print(\"La edad es incorrecta\")"
   ]
  },
  {
   "cell_type": "markdown",
   "metadata": {},
   "source": [
    "### Ejercicio 9\n",
    "La pizzería Planeta ofrece pizzas vegetarianas y no vegetarianas a sus clientes. Los ingredientes para cada tipo de pizza aparecen a continuación.  \n",
    "\n",
    "* Vegetarianos: Pimiento y tofu.  \n",
    "* No vegetarianos: Peperoni, Jamón y Salmón.  \n",
    "\n",
    "Escribir un programa que pregunte al usuario si quiere una pizza vegetariana o no, y en función de su respuesta le muestre un menú con los ingredientes disponibles para que elija. Solo se puede eligir un ingrediente además de la mozzarella y el tomate que están en todas la pizzas. Al final se debe mostrar por pantalla si la pizza elegida es vegetariana o no y todos los ingredientes que lleva.\n",
    "\n",
    "\n"
   ]
  },
  {
   "cell_type": "code",
   "execution_count": 13,
   "metadata": {},
   "outputs": [
    {
     "name": "stdout",
     "output_type": "stream",
     "text": [
      "Eligir ingrediente\n",
      "1.- Pimiento\n",
      "2.- Tofu\n",
      "pizza: Vegetariana, ingredientes: Tomate, Mozarella,Pimiento\n"
     ]
    }
   ],
   "source": [
    "# Solución\n",
    "vegetariana = input(\"Quieres una pizza vegetariana? s/n\")\n",
    "print(\"Eligir ingrediente\")\n",
    "if vegetariana == \"s\":\n",
    "    pizza = \"Vegetariana\"\n",
    "    print(\"1.- Pimiento\")\n",
    "    print(\"2.- Tofu\")\n",
    "    opt = int(input())\n",
    "    if opt == 1:\n",
    "        ingrediente = \"Pimiento\"\n",
    "    elif opt ==2:\n",
    "        ingrediente = \"Tofu\"\n",
    "    else:\n",
    "        print(\"Solo tomate y mozzarella\")\n",
    "else:\n",
    "    pizza = \"No Vegetariana\"\n",
    "    print(\"1.- Peperoni\")\n",
    "    print(\"2.- Jamón\")\n",
    "    print(\"3.- Salmón\")\n",
    "    opt = int(input())\n",
    "    if opt == 1:\n",
    "        ingrediente = \"Peperoni\"\n",
    "    elif opt ==2:\n",
    "        ingrediente = \"Jamón\"\n",
    "    elif opt == 3:\n",
    "        ingrediente = \"Salmón\"\n",
    "    else:\n",
    "        ingrediente = \"\"\n",
    "print(f\"pizza: {pizza}, ingredientes: Tomate, Mozarella,{ingrediente}\")"
   ]
  }
 ],
 "metadata": {
  "kernelspec": {
   "display_name": "Python 3.10.4 64-bit",
   "language": "python",
   "name": "python3"
  },
  "language_info": {
   "codemirror_mode": {
    "name": "ipython",
    "version": 3
   },
   "file_extension": ".py",
   "mimetype": "text/x-python",
   "name": "python",
   "nbconvert_exporter": "python",
   "pygments_lexer": "ipython3",
   "version": "3.10.4"
  },
  "orig_nbformat": 4,
  "vscode": {
   "interpreter": {
    "hash": "9524c4952dd211fec7df7c73b3afac2dbc89a267f70352ce6257a0999e7cce99"
   }
  }
 },
 "nbformat": 4,
 "nbformat_minor": 2
}
