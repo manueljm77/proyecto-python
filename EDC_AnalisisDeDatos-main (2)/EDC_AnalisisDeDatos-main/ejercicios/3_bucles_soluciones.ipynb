{
 "cells": [
  {
   "cell_type": "markdown",
   "metadata": {},
   "source": [
    "# Ejercicios: Estructuras iterativas\n",
    "\n"
   ]
  },
  {
   "cell_type": "markdown",
   "metadata": {},
   "source": [
    "### Ejercicio 1\n",
    "Calcular la media de los números pares e impares, sólo se ingresará diez números."
   ]
  },
  {
   "cell_type": "code",
   "execution_count": 5,
   "metadata": {},
   "outputs": [
    {
     "name": "stdout",
     "output_type": "stream",
     "text": [
      "El promedio de los números pares es = 10.4\n",
      "El promedio de los números impares es = 4.2\n"
     ]
    }
   ],
   "source": [
    "\"\"\" Solución\n",
    "Entrada: 10 números\n",
    "Salida: promedio pares, promedio impares. \"\"\"\n",
    "\n",
    "# número de datos de entrada\n",
    "n = 10\n",
    "# acumulador y contador de pares\n",
    "sumaP = 0\n",
    "contP = 0\n",
    "# acumulador y contador de impares\n",
    "sumaI = 0\n",
    "contI = 0\n",
    "\n",
    "# pedimos 10 números\n",
    "for i in range(n):\n",
    "    dato = int(input(f\"Ingresa el número {i+1}\"))\n",
    "    # verificamos si es par o impar\n",
    "    if(dato%2 == 0):\n",
    "        # sumamos par\n",
    "        sumaP+=dato\n",
    "        # contamos par\n",
    "        contP+=1\n",
    "    else:\n",
    "        # sumamos impar\n",
    "        sumaI+=dato\n",
    "        # contamos impar\n",
    "        contI+=1\n",
    "# verificamos si hay pares (evitar dividir entre 0)\n",
    "if contP>0:\n",
    "    # calculamos promedio\n",
    "    promP = sumaP/contP\n",
    "    print(f\"El promedio de los números pares es = {promP}\")\n",
    "else:\n",
    "    print(f\"No introdujo números pares\")\n",
    "if contI>0:\n",
    "    promI = sumaI/contI\n",
    "    print(f\"El promedio de los números impares es = {promI}\")\n",
    "else:\n",
    "    print(f\"No introdujo números impares\")"
   ]
  },
  {
   "cell_type": "markdown",
   "metadata": {},
   "source": [
    "### Ejercicio 2\n",
    "Calcular la suma de los n primeros números."
   ]
  },
  {
   "cell_type": "code",
   "execution_count": 12,
   "metadata": {},
   "outputs": [
    {
     "name": "stdout",
     "output_type": "stream",
     "text": [
      "La suma de los 19 es = 85\n"
     ]
    }
   ],
   "source": [
    "# Solución\n",
    "\"\"\"\n",
    "Entrada: n números\n",
    "Salida: suma de los n números\n",
    "\"\"\"\n",
    "# contar números \n",
    "cont = 0\n",
    "suma = 0\n",
    "# ciclo do while, para sumar hasta que el usuario intruduzca un 0\n",
    "while True:\n",
    "    n = int(input(f\"ingresa el número {cont+1}° para sumar\\nIngresa 0 para dejar de sumar\"))\n",
    "    # si es 0, salir del ciclo while\n",
    "    if n==0:\n",
    "        break\n",
    "    # sumar y contar\n",
    "    suma+=n\n",
    "    cont+=1\n",
    "print(f\"La suma de los {cont} es = {suma}\")"
   ]
  },
  {
   "cell_type": "markdown",
   "metadata": {},
   "source": [
    "### Ejercicio 3\n",
    "Se quiere saber cuál es la ciudad con la población de más personas, son tres estados  con once ciudades, hacer un algoritmo que nos permita saber eso."
   ]
  },
  {
   "cell_type": "code",
   "execution_count": 22,
   "metadata": {},
   "outputs": [
    {
     "name": "stdout",
     "output_type": "stream",
     "text": [
      "El estado y ciudad con más población = ( B, 3 ) con una pobalción de 15465 personas\n"
     ]
    }
   ],
   "source": [
    "# Solución\n",
    "\"\"\" \n",
    "Entrada: 33 poblaciones\n",
    "Salida: estado y ciudad con mayor población\n",
    "Restricciones: poblaciones tienen que ser enteros y mayores a 0\n",
    "\"\"\"\n",
    "# variables\n",
    "estados = 3\n",
    "ciudades = 11\n",
    "poblacion_max = 0\n",
    "ciudad_max = 0\n",
    "estado_max = \"\"\n",
    "\n",
    "# recorrer los estados\n",
    "for estado in range(1,estados+1):\n",
    "    # nombramos estados de A a C\n",
    "    if estado == 1:\n",
    "        estado_a = \"A\"\n",
    "    elif estado == 2:\n",
    "        estado_a = \"B\"\n",
    "    else:\n",
    "        estado_a = \"C\"\n",
    "    # recorrer las ciudades\n",
    "    for ciudad in range(1,ciudades+1):\n",
    "        poblacion = int(input(f\"Ingresa la población del estado {estado_a} y ciudad {ciudad}\"))\n",
    "        # verifica si es mayor la población\n",
    "        if poblacion_max<=poblacion:\n",
    "            poblacion_max = poblacion\n",
    "            estado_max = estado_a\n",
    "            ciudad_max = ciudad\n",
    "print(f\"El estado y ciudad con más población = ( {estado_max}, {ciudad_max} ) con una pobalción de {poblacion_max} personas\")"
   ]
  },
  {
   "cell_type": "markdown",
   "metadata": {},
   "source": []
  },
  {
   "cell_type": "markdown",
   "metadata": {},
   "source": [
    "### Ejercicio 4\n",
    "Imprimir las tablas de multiplicar de los números del uno al nueve."
   ]
  },
  {
   "cell_type": "code",
   "execution_count": 23,
   "metadata": {},
   "outputs": [
    {
     "name": "stdout",
     "output_type": "stream",
     "text": [
      "TABLA DEL 1\n",
      "1 x 1 = 1\n",
      "1 x 2 = 2\n",
      "1 x 3 = 3\n",
      "1 x 4 = 4\n",
      "1 x 5 = 5\n",
      "1 x 6 = 6\n",
      "1 x 7 = 7\n",
      "1 x 8 = 8\n",
      "1 x 9 = 9\n",
      "1 x 10 = 10\n",
      "TABLA DEL 2\n",
      "2 x 1 = 2\n",
      "2 x 2 = 4\n",
      "2 x 3 = 6\n",
      "2 x 4 = 8\n",
      "2 x 5 = 10\n",
      "2 x 6 = 12\n",
      "2 x 7 = 14\n",
      "2 x 8 = 16\n",
      "2 x 9 = 18\n",
      "2 x 10 = 20\n",
      "TABLA DEL 3\n",
      "3 x 1 = 3\n",
      "3 x 2 = 6\n",
      "3 x 3 = 9\n",
      "3 x 4 = 12\n",
      "3 x 5 = 15\n",
      "3 x 6 = 18\n",
      "3 x 7 = 21\n",
      "3 x 8 = 24\n",
      "3 x 9 = 27\n",
      "3 x 10 = 30\n",
      "TABLA DEL 4\n",
      "4 x 1 = 4\n",
      "4 x 2 = 8\n",
      "4 x 3 = 12\n",
      "4 x 4 = 16\n",
      "4 x 5 = 20\n",
      "4 x 6 = 24\n",
      "4 x 7 = 28\n",
      "4 x 8 = 32\n",
      "4 x 9 = 36\n",
      "4 x 10 = 40\n",
      "TABLA DEL 5\n",
      "5 x 1 = 5\n",
      "5 x 2 = 10\n",
      "5 x 3 = 15\n",
      "5 x 4 = 20\n",
      "5 x 5 = 25\n",
      "5 x 6 = 30\n",
      "5 x 7 = 35\n",
      "5 x 8 = 40\n",
      "5 x 9 = 45\n",
      "5 x 10 = 50\n",
      "TABLA DEL 6\n",
      "6 x 1 = 6\n",
      "6 x 2 = 12\n",
      "6 x 3 = 18\n",
      "6 x 4 = 24\n",
      "6 x 5 = 30\n",
      "6 x 6 = 36\n",
      "6 x 7 = 42\n",
      "6 x 8 = 48\n",
      "6 x 9 = 54\n",
      "6 x 10 = 60\n",
      "TABLA DEL 7\n",
      "7 x 1 = 7\n",
      "7 x 2 = 14\n",
      "7 x 3 = 21\n",
      "7 x 4 = 28\n",
      "7 x 5 = 35\n",
      "7 x 6 = 42\n",
      "7 x 7 = 49\n",
      "7 x 8 = 56\n",
      "7 x 9 = 63\n",
      "7 x 10 = 70\n",
      "TABLA DEL 8\n",
      "8 x 1 = 8\n",
      "8 x 2 = 16\n",
      "8 x 3 = 24\n",
      "8 x 4 = 32\n",
      "8 x 5 = 40\n",
      "8 x 6 = 48\n",
      "8 x 7 = 56\n",
      "8 x 8 = 64\n",
      "8 x 9 = 72\n",
      "8 x 10 = 80\n",
      "TABLA DEL 9\n",
      "9 x 1 = 9\n",
      "9 x 2 = 18\n",
      "9 x 3 = 27\n",
      "9 x 4 = 36\n",
      "9 x 5 = 45\n",
      "9 x 6 = 54\n",
      "9 x 7 = 63\n",
      "9 x 8 = 72\n",
      "9 x 9 = 81\n",
      "9 x 10 = 90\n"
     ]
    }
   ],
   "source": [
    "\"\"\" \n",
    "Sin entradas\n",
    "Salida: las tablas de multiplicar\n",
    "        TABLA DEL 6\n",
    "        6 x 1 = 6\n",
    "        6 x 2 = 12\n",
    "        ...\n",
    "        6 x 9 = 54\n",
    "        6 x 10 = 60\n",
    "        \n",
    "        TABLA DEL 7\n",
    "        7 x 1 = 7\n",
    "\"\"\"\n",
    "# recorre las tablas\n",
    "for i in range(1,10):\n",
    "    # muestra que tabla es\n",
    "    print(f\"TABLA DEL {i}\")\n",
    "    # recorre las multiplicaciones\n",
    "    for j in range(1,11):\n",
    "        # muestra la multiplicación\n",
    "        print(f\"{i} x {j} = {i*j}\")"
   ]
  },
  {
   "cell_type": "markdown",
   "metadata": {},
   "source": [
    "### Ejercicio 5\n",
    "Calcular el factorial de un número."
   ]
  },
  {
   "cell_type": "code",
   "execution_count": 25,
   "metadata": {},
   "outputs": [
    {
     "name": "stdout",
     "output_type": "stream",
     "text": [
      "5! = 120\n"
     ]
    }
   ],
   "source": [
    "\"\"\" \n",
    "Entrada: un número\n",
    "Salida: n! - - 1*2*3*...*n\n",
    "\"\"\"\n",
    "# datos entrada\n",
    "n = int(input(\"itroduce un número\"))\n",
    "# acumulador con *, iniciamos en 1 por que es elmento nuetro en la multiplilcación\n",
    "factorial = 1\n",
    "# recorremos desde 1 hasta el n, i tiene que ser diferente de cero por que sino \n",
    "# la multiplicación seria 0\n",
    "for i in range(1,n+1):\n",
    "    factorial*=i\n",
    "print(f\"{n}! = {factorial}\")"
   ]
  },
  {
   "cell_type": "markdown",
   "metadata": {},
   "source": [
    "### Ejercicio 6\n",
    "Hacer un algoritmo que nos diga si un número es primo."
   ]
  },
  {
   "cell_type": "code",
   "execution_count": 28,
   "metadata": {},
   "outputs": [
    {
     "name": "stdout",
     "output_type": "stream",
     "text": [
      "97 es primo\n"
     ]
    }
   ],
   "source": [
    "# Solución\n",
    "\"\"\" \n",
    "Entrada: un número\n",
    "Salida: es primo o no es primo\n",
    "\"\"\"\n",
    "# entrda\n",
    "n = int(input(\"introduce un número:\"))\n",
    "cont_div = 0\n",
    "# verificamos si es divisible entre 2,3, .. , hasta n-1\n",
    "for i in range(2,n):\n",
    "    if n%i == 0:\n",
    "        cont_div+=1\n",
    "# no es divisible entre sus antecesores\n",
    "if cont_div == 0:\n",
    "    print(f\"{n} es primo\")"
   ]
  },
  {
   "cell_type": "markdown",
   "metadata": {},
   "source": [
    "### Ejercicio 7\n",
    "Hacer un algoritmo que nos imprima los números primos en el rango [2,N]."
   ]
  },
  {
   "cell_type": "code",
   "execution_count": 43,
   "metadata": {},
   "outputs": [
    {
     "name": "stdout",
     "output_type": "stream",
     "text": [
      "[2,3,5,7]\n"
     ]
    }
   ],
   "source": [
    "# Solución\n",
    "\"\"\" \n",
    "Entrada: un número\n",
    "Salida: numeros pirmos desde 2 hasta n\n",
    "\"\"\"\n",
    "# range [2,n]\n",
    "n = int(input(\"introduce un número:\"))\n",
    "print(\"[\",end=\"\")\n",
    "# recorre el rango [2,n]\n",
    "for j in range(2,n+1):\n",
    "    cont_div = 0\n",
    "    # verificamos si es divisible entre 2,3, .. , hasta n-1\n",
    "    for i in range(2,j):\n",
    "        if j%i == 0:\n",
    "            cont_div+=1\n",
    "    # no es divisible entre sus antecesores entonces es primo\n",
    "    if cont_div == 0:\n",
    "        print(j,end=\",\")\n",
    "print(\"\\b]\")"
   ]
  },
  {
   "cell_type": "markdown",
   "metadata": {},
   "source": [
    "### Ejercicio 8\n",
    "Hacer un algoritmo que nos permita saber cuál es el número mayor y menor, se debe ingresar sólo veinte números."
   ]
  },
  {
   "cell_type": "code",
   "execution_count": 46,
   "metadata": {},
   "outputs": [
    {
     "name": "stdout",
     "output_type": "stream",
     "text": [
      "El número maximo = 1024, el minimo = -1000\n"
     ]
    }
   ],
   "source": [
    "# Solución\n",
    "\"\"\" \n",
    "Entrada: 20 números\n",
    "Salida: El mayor\n",
    "\"\"\"\n",
    "# la cantida de números\n",
    "n = 20\n",
    "for i in range(n):\n",
    "    dato = int(input(f\"Ingresa el {i+1}° número\"))\n",
    "    if i == 0:\n",
    "        maximo = dato\n",
    "        minimo = dato\n",
    "    if dato>maximo:\n",
    "        maximo = dato\n",
    "    if dato<minimo:\n",
    "        minimo = dato\n",
    "print(f\"El número maximo = {maximo}, el minimo = {minimo}\")"
   ]
  },
  {
   "cell_type": "markdown",
   "metadata": {},
   "source": [
    "### Ejercicio 9\n",
    "Hacer un algoritmo para calcular la serie de Fibonacci."
   ]
  },
  {
   "cell_type": "code",
   "execution_count": 56,
   "metadata": {},
   "outputs": [
    {
     "name": "stdout",
     "output_type": "stream",
     "text": [
      "0\n"
     ]
    }
   ],
   "source": [
    "# Solución\n",
    "\"\"\"\n",
    "Entrada: posición de la sucesion de fibonacci.\n",
    "Salida: el valor de la posición, empezando con la posición 0\n",
    "Ejemplo: [0,1,1,2,3,5,8,13,21,34,55]\n",
    "si la posición es 0, valor = 0\n",
    "si la posición es 6, valor = 8\n",
    "\"\"\"\n",
    "n = int(input(\"ingresa la posición: \"))\n",
    "# casos base\n",
    "if n == 0:\n",
    "    # print(\"0\")\n",
    "    valor=0\n",
    "elif n == 1:\n",
    "    # print(\"0,1\")\n",
    "    valor=1\n",
    "# otro caso\n",
    "else:\n",
    "    # print(\"0,1\",end=\",\")\n",
    "    x1 = 0\n",
    "    x2 = 1\n",
    "    for i in range(2,n+1):\n",
    "        valor = x1 + x2\n",
    "        # print(valor,end=\",\")\n",
    "        x1 = x2\n",
    "        x2 = valor\n",
    "# print(\"\\b\",end=\"\")\n",
    "print(valor)"
   ]
  },
  {
   "cell_type": "markdown",
   "metadata": {},
   "source": [
    "### Ejercicio 10\n",
    "Hacer un algoritmo para conseguir el M.C.D de un número por medio del algoritmo de Euclides."
   ]
  },
  {
   "cell_type": "code",
   "execution_count": 4,
   "metadata": {},
   "outputs": [
    {
     "name": "stdout",
     "output_type": "stream",
     "text": [
      "El M.C.D de 77 y 1568 es = 7\n"
     ]
    }
   ],
   "source": [
    "# Solución\n",
    "\"\"\"\n",
    "Entrada: 2 números para conocer su M.C.D\n",
    "Salida: M.C.D de los dos núermos , \"El M.C.D de 77 y 1568 es = 7\"\n",
    "\"\"\"\n",
    "n1 = int(input(\"Introduce el primer número\"))\n",
    "n2 = int(input(\"Introduce el segundo número\"))\n",
    "\n",
    "# verifica cual de los dos es mayor, para dividier el mayor entre el menor\n",
    "if n1>n2:\n",
    "    # n1 será el dividendo \n",
    "    dividendo = n1\n",
    "    # n2 será el divisor\n",
    "    divisor = n2\n",
    "else: \n",
    "    # n2 será el dividendo \n",
    "    dividendo = n2\n",
    "    # n1 será el divisor\n",
    "    divisor = n1\n",
    "\n",
    "# se utiliza do while para hacer por lo menos una vez la división\n",
    "while True:\n",
    "    # dividimos y recuperamos el reciduo\n",
    "    resto = dividendo % divisor\n",
    "    # si el reciduo es cero, el maximo comun divisor es el ultimo divisor\n",
    "    if resto == 0:\n",
    "        mcd = divisor\n",
    "        break\n",
    "    # si no es cero, dividimos el divisor entre el reciduo\n",
    "    else:\n",
    "        dividendo = divisor\n",
    "        divisor = resto\n",
    "print(f\"El M.C.D de {n1} y {n2} es = {mcd}\")"
   ]
  },
  {
   "cell_type": "code",
   "execution_count": null,
   "metadata": {},
   "outputs": [],
   "source": []
  }
 ],
 "metadata": {
  "kernelspec": {
   "display_name": "Python 3.10.5 64-bit",
   "language": "python",
   "name": "python3"
  },
  "language_info": {
   "codemirror_mode": {
    "name": "ipython",
    "version": 3
   },
   "file_extension": ".py",
   "mimetype": "text/x-python",
   "name": "python",
   "nbconvert_exporter": "python",
   "pygments_lexer": "ipython3",
   "version": "3.10.5"
  },
  "orig_nbformat": 4,
  "vscode": {
   "interpreter": {
    "hash": "a42ccb73e7d9bfdf27e036f1d2b8b681e55fc0743cc5586bc2474d4a60f4b886"
   }
  }
 },
 "nbformat": 4,
 "nbformat_minor": 2
}
