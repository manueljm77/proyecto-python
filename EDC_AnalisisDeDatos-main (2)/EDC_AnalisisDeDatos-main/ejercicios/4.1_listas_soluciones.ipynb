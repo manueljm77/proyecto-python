{
 "cells": [
  {
   "cell_type": "markdown",
   "metadata": {},
   "source": [
    "# Ejercicios Listas"
   ]
  },
  {
   "cell_type": "markdown",
   "metadata": {},
   "source": [
    "### Ejercicio 1\n",
    "Escribir un programa que almacene las asignaturas de un curso (por ejemplo Matemáticas, Física, Química, Historia y Lengua) en una lista y la muestre por pantalla."
   ]
  },
  {
   "cell_type": "code",
   "execution_count": 6,
   "metadata": {},
   "outputs": [
    {
     "name": "stdout",
     "output_type": "stream",
     "text": [
      "Como lista: \n",
      "['Matemáticas', 'Física', 'Química', 'Historia', 'Lengua']\n",
      "\n",
      "Como elementos:\n",
      "Matemáticas\n",
      "Física\n",
      "Química\n",
      "Historia\n",
      "Lengua\n"
     ]
    }
   ],
   "source": [
    "# Solución\n",
    "asignaturas = [\"Matemáticas\",\"Física\",\"Química\",\"Historia\",\"Lengua\"]\n",
    "# como lista\n",
    "print(\"Como lista: \")\n",
    "print(asignaturas)\n",
    "print()\n",
    "# como elementos\n",
    "print(\"Como elementos:\")\n",
    "for i in range(len(asignaturas)):\n",
    "\n",
    "    print(asignaturas[i])"
   ]
  },
  {
   "cell_type": "markdown",
   "metadata": {},
   "source": [
    "### Ejercicio 2\n",
    "Escribir un programa que almacene las asignaturas de un curso (por ejemplo Matemáticas, Física, Química, Historia y Lengua) en una lista y la muestre por pantalla el mensaje Yo estudio &lt;asignatura>, donde &lt;asignatura> es cada una de las asignaturas de la lista."
   ]
  },
  {
   "cell_type": "code",
   "execution_count": 7,
   "metadata": {},
   "outputs": [
    {
     "name": "stdout",
     "output_type": "stream",
     "text": [
      "Yo estudio Matemáticas\n",
      "Yo estudio Física\n",
      "Yo estudio Química\n",
      "Yo estudio Historia\n",
      "Yo estudio Lengua\n"
     ]
    }
   ],
   "source": [
    "# Solución\n",
    "asignaturas = [\"Matemáticas\",\"Física\",\"Química\",\"Historia\",\"Lengua\"]\n",
    "for i in range(len(asignaturas)):\n",
    "    print(f\"Yo estudio {asignaturas[i]}\")"
   ]
  },
  {
   "cell_type": "markdown",
   "metadata": {},
   "source": [
    "### Ejercicio 3\n",
    "Escribir un programa que almacene las asignaturas de un curso (por ejemplo Matemáticas, Física, Química, Historia y Lengua) en una lista, pregunte al usuario la nota que ha sacado en cada asignatura, y después las muestre por pantalla con el mensaje En &lt;asignatura> has sacado &lt;nota> donde &lt;asignatura> es cada una des las asignaturas de la lista y &lt;nota> cada una de las correspondientes notas introducidas por el usuario."
   ]
  },
  {
   "cell_type": "code",
   "execution_count": 20,
   "metadata": {},
   "outputs": [
    {
     "name": "stdout",
     "output_type": "stream",
     "text": [
      "En Matemáticas has sacado 12.0\n",
      "En Física has sacado 23.0\n",
      "En Química has sacado 45.0\n",
      "En Historia has sacado 10.0\n",
      "En Lengua has sacado 15.0\n"
     ]
    }
   ],
   "source": [
    "# Solución 1\n",
    "asignaturas = [\"Matemáticas\",\"Física\",\"Química\",\"Historia\",\"Lengua\"]\n",
    "for i in range(len(asignaturas)):\n",
    "    nota = float(input(f\"Que nota optuviste en {asignaturas[i]}\"))\n",
    "    asig_aux = asignaturas[i]\n",
    "    asignaturas[i] = (asig_aux,nota)\n",
    "for i in range(len(asignaturas_n)):\n",
    "    print(f\"En {asignaturas[i][0]} has sacado {asignaturas[i][1]}\")"
   ]
  },
  {
   "cell_type": "code",
   "execution_count": 22,
   "metadata": {},
   "outputs": [
    {
     "name": "stdout",
     "output_type": "stream",
     "text": [
      "En Matemáticas has sacado 10.0\n",
      "En Física has sacado 8.0\n",
      "En Química has sacado 6.0\n",
      "En Historia has sacado 7.0\n",
      "En Lengua has sacado 9.0\n"
     ]
    }
   ],
   "source": [
    "# Solución 2\n",
    "asignaturas = [\"Matemáticas\",\"Física\",\"Química\",\"Historia\",\"Lengua\"]\n",
    "asignaturas_n = []\n",
    "for i in range(len(asignaturas)):\n",
    "    nota = float(input(f\"Que nota optuviste en {asignaturas[i]}\"))\n",
    "    asignaturas_n.append((asignaturas[i],nota))\n",
    "for i in range(len(asignaturas_n)):\n",
    "    print(f\"En {asignaturas_n[i][0]} has sacado {asignaturas_n[i][1]}\")"
   ]
  },
  {
   "cell_type": "markdown",
   "metadata": {},
   "source": [
    "### Ejercicio 4\n",
    "Escribir un programa que pregunte al usuario los números ganadores de la lotería primitiva, los almacene en una lista y los muestre por pantalla ordenados de menor a mayor."
   ]
  },
  {
   "cell_type": "code",
   "execution_count": 10,
   "metadata": {},
   "outputs": [
    {
     "name": "stdout",
     "output_type": "stream",
     "text": [
      "[1, 128, 254, 1247, 12348, 12357, 12549, 669887]\n"
     ]
    }
   ],
   "source": [
    "# Solución\n",
    "loteria_n = []\n",
    "while True:\n",
    "    numero = int(input(\"Ingresa el número ganador de la loteria, ingresa -1 para salir\"))\n",
    "    if numero<0:\n",
    "        break\n",
    "    else:\n",
    "        loteria_n.append(numero)\n",
    "loteria_n.sort()\n",
    "print(loteria_n)"
   ]
  },
  {
   "cell_type": "markdown",
   "metadata": {},
   "source": [
    "### Ejercicio 5\n",
    "Escribir un programa que almacene en una lista los números del 1 al 10 y los muestre por pantalla en orden inverso separados por comas."
   ]
  },
  {
   "cell_type": "code",
   "execution_count": 13,
   "metadata": {},
   "outputs": [
    {
     "name": "stdout",
     "output_type": "stream",
     "text": [
      "[10, 9, 8, 7, 6, 5, 4, 3, 2, 1]\n"
     ]
    }
   ],
   "source": [
    "# Solución\n",
    "numeros = [i for i in range(1,11)]\n",
    "numeros.sort(reverse=True)\n",
    "print(numeros)"
   ]
  },
  {
   "cell_type": "markdown",
   "metadata": {},
   "source": [
    "### Ejercicio 6\n",
    "Escribir un programa que almacene las asignaturas de un curso (por ejemplo Matemáticas, Física, Química, Historia y Lengua) en una lista, pregunte al usuario la nota que ha sacado en cada asignatura y elimine de la lista las asignaturas aprobadas. Al final el programa debe mostrar por pantalla las asignaturas que el usuario tiene que repetir."
   ]
  },
  {
   "cell_type": "code",
   "execution_count": 25,
   "metadata": {},
   "outputs": [
    {
     "name": "stdout",
     "output_type": "stream",
     "text": [
      "En Física has sacado 5.9 tienes que repetir\n",
      "En Química has sacado 5.99 tienes que repetir\n"
     ]
    }
   ],
   "source": [
    "# Solución 1\n",
    "asignaturas = [\"Matemáticas\",\"Física\",\"Química\",\"Historia\",\"Lengua\"]\n",
    "\n",
    "# guarda las calificaciones\n",
    "for i in range(len(asignaturas)):\n",
    "    nota = float(input(f\"Que nota optuvistes en {asignaturas[i]}\"))\n",
    "    asig_aux = asignaturas[i]\n",
    "    asignaturas[i] = (asig_aux,nota)\n",
    "\n",
    "# filtra\n",
    "for i in range(len(asignaturas_n)):\n",
    "    if asignaturas[i][1]<6:\n",
    "        print(f\"En {asignaturas[i][0]} has sacado {asignaturas[i][1]} tienes que repetir\")"
   ]
  },
  {
   "cell_type": "code",
   "execution_count": 14,
   "metadata": {},
   "outputs": [
    {
     "name": "stdout",
     "output_type": "stream",
     "text": [
      "En Física has sacado 5.0 tienes que repetir\n",
      "En Historia has sacado 5.9 tienes que repetir\n",
      "En Lengua has sacado 4.0 tienes que repetir\n"
     ]
    }
   ],
   "source": [
    "# Solución 2\n",
    "asignaturas = [\"Matemáticas\",\"Física\",\"Química\",\"Historia\",\"Lengua\"]\n",
    "asignaturas_n = []\n",
    "\n",
    "# guarda las calificaciones\n",
    "for i in range(len(asignaturas)):\n",
    "    nota = float(input(f\"Que nota optuvistes en {asignaturas[i]}\"))\n",
    "    asignaturas_n.append((asignaturas[i],nota))\n",
    "\n",
    "# filtra\n",
    "for i in range(len(asignaturas_n)):\n",
    "    if asignaturas_n[i][1]<6:\n",
    "        print(f\"En {asignaturas_n[i][0]} has sacado {asignaturas_n[i][1]} tienes que repetir\")\n",
    "\n"
   ]
  },
  {
   "cell_type": "markdown",
   "metadata": {},
   "source": [
    "### Ejercicio 7\n",
    "Escribir un programa que almacene el abecedario en una lista, elimine de la lista las letras que ocupen posiciones múltiplos de 3, y muestre por pantalla la lista resultante."
   ]
  },
  {
   "cell_type": "code",
   "execution_count": 7,
   "metadata": {},
   "outputs": [
    {
     "name": "stdout",
     "output_type": "stream",
     "text": [
      "['A', 'B', 'C', 'D', 'E', 'F', 'G', 'H', 'I', 'J', 'K', 'L', 'M', 'N', 'O', 'P', 'Q', 'R', 'S', 'T', 'U', 'V', 'W', 'X', 'Y', 'Z']\n",
      "['D', 'G', 'J', 'M', 'P', 'S', 'V', 'Y']\n",
      "['A', 'B', 'C', 'E', 'F', 'H', 'I', 'K', 'L', 'N', 'O', 'Q', 'R', 'T', 'U', 'W', 'X', 'Z']\n"
     ]
    }
   ],
   "source": [
    "\n",
    "# Solución\n",
    "import string\n",
    "abecedario =  list(string.ascii_uppercase)\n",
    "remover = [] \n",
    "print(abecedario)\n",
    "\n",
    "# letras en las posiciones de los multiplos de 3\n",
    "for i in range(3,len(abecedario),3):\n",
    "    remover.append(abecedario[i])\n",
    "# remover esas letras\n",
    "for i in range(len(remover)):\n",
    "    abecedario.remove(remover[i])\n",
    "\n",
    "print(remover)\n",
    "print(abecedario)\n"
   ]
  },
  {
   "cell_type": "markdown",
   "metadata": {},
   "source": [
    "### Ejercicio 8\n",
    "Escribir un programa que pida al usuario una palabra y muestre por pantalla si es un palíndromo."
   ]
  },
  {
   "cell_type": "code",
   "execution_count": 22,
   "metadata": {},
   "outputs": [
    {
     "name": "stdout",
     "output_type": "stream",
     "text": [
      "reconocer es un palindromo\n"
     ]
    }
   ],
   "source": [
    "# Solución\n",
    "palabra = input(\"Ingresa una palabra\")\n",
    "\n",
    "# para afirmar que es palindromo, sera verdadero hasta que se demuestre lo contrario\n",
    "es_palindromo = True\n",
    "for i in range(int(len(palabra)/2)):\n",
    "    # verificamos si la primera es distinta que la ultima, la segunda con la antepenultima etc.\n",
    "    if palabra[i] != palabra[-i-1]:\n",
    "        es_palindromo = False\n",
    "if es_palindromo:\n",
    "    print(f\"{palabra} es un palindromo\")\n",
    "else:\n",
    "    print(f\"{palabra} no es un palindromo\")"
   ]
  },
  {
   "cell_type": "markdown",
   "metadata": {},
   "source": [
    "### Ejercicio 9\n",
    "Escribir un programa que pida al usuario una palabra y muestre por pantalla el número de veces que contiene cada vocal."
   ]
  },
  {
   "cell_type": "code",
   "execution_count": 26,
   "metadata": {},
   "outputs": [
    {
     "name": "stdout",
     "output_type": "stream",
     "text": [
      "murcielago\n",
      "La vocal a aparece 1 veces\n",
      "La vocal e aparece 1 veces\n",
      "La vocal i aparece 1 veces\n",
      "La vocal o aparece 1 veces\n",
      "La vocal u aparece 1 veces\n"
     ]
    }
   ],
   "source": [
    "# Solución\n",
    "palabra = input(\"Ingresa una palabra\")\n",
    "vocales = ['a','e','i','o','u']\n",
    "print(palabra)\n",
    "for vocal in vocales:\n",
    "    veces = 0\n",
    "    for letra in palabra:\n",
    "        if vocal == letra:\n",
    "            veces+=1\n",
    "    print(f\"La vocal {vocal} aparece {veces} veces\")"
   ]
  },
  {
   "cell_type": "markdown",
   "metadata": {},
   "source": [
    "### Ejercicio 10\n",
    "Escribir un programa que almacene en una lista los siguientes precios, 50, 75, 46, 22, 80, 65, 8 y muestre por pantalla el menor y el mayor de los precios."
   ]
  },
  {
   "cell_type": "code",
   "execution_count": 28,
   "metadata": {},
   "outputs": [
    {
     "name": "stdout",
     "output_type": "stream",
     "text": [
      "el mínimo es = 8\n",
      "el máximo es = 80\n"
     ]
    }
   ],
   "source": [
    "# Solución\n",
    "lista = [50, 75, 46, 22, 80, 65, 8]\n",
    "print(f\"el mínimo es = {min(lista)}\") \n",
    "print(f\"el máximo es = {max(lista)}\")"
   ]
  },
  {
   "cell_type": "markdown",
   "metadata": {},
   "source": [
    "### Ejercicio 11\n",
    "Escribir un programa que almacene los vectores (1,2,3) y (-1,0,2) en dos listas y muestre por pantalla su producto escalar."
   ]
  },
  {
   "cell_type": "code",
   "execution_count": 30,
   "metadata": {},
   "outputs": [
    {
     "name": "stdout",
     "output_type": "stream",
     "text": [
      "El producto escalar de [1, 2, 3] y [-1, 0, 2] es = 5\n"
     ]
    }
   ],
   "source": [
    "# Solución\n",
    "v1 = [1,2,3]\n",
    "v2 = [-1,0,2]\n",
    "\n",
    "v1_por_v2 = 0\n",
    "# producto escalar\n",
    "for i in range(len(v1)):\n",
    "    v1_por_v2 += v1[i]*v2[i]\n",
    "print(f\"El producto escalar de {v1} y {v2} es = {v1_por_v2}\")"
   ]
  },
  {
   "cell_type": "markdown",
   "metadata": {},
   "source": [
    "### Ejercicio 12\n",
    "Escribir un programa que almacene las matrices en una lista y muestre por pantalla su producto.\n",
    "Nota: Para representar matrices mediante listas usar listas anidadas, representando cada vector fila en una lista.  \n",
    "\n",
    "$$\\begin{equation}\n",
    "    \\begin{pmatrix}\n",
    "        a_{1,1} & a_{1,2}\\\\\n",
    "        a_{2,1} & a_{2,2}\n",
    "    \\end{pmatrix}\n",
    "    *\n",
    "    \\begin{pmatrix}\n",
    "        b_{1,1} & b_{1,2}\\\\\n",
    "        b_{2,1} & b_{2,2}\n",
    "    \\end{pmatrix}\n",
    "    =\n",
    "    \\begin{pmatrix}\n",
    "        a_{1,1}*b_{1,1} +a_{1,2}*b_{2,1} &  a_{1,1}*b_{1,2}+a_{1,2}*b_{2,2}\\\\\n",
    "        a_{2,1}*b_{1,1} + a_{2,2}*b_{2,1} &  a_{2,1}*b_{1,2} + a_{2,2}*b_{2,2}\n",
    "    \\end{pmatrix}\n",
    "\\end{equation}$$"
   ]
  },
  {
   "cell_type": "markdown",
   "metadata": {},
   "source": [
    "### Ejemplo 1\n",
    "$$\\begin{equation}\n",
    "    \\begin{pmatrix}\n",
    "        1 & 2\\\\\n",
    "        3 & 4\n",
    "    \\end{pmatrix}\n",
    "    *\n",
    "    \\begin{pmatrix}\n",
    "        1 & 1\\\\\n",
    "        0 & 2\n",
    "    \\end{pmatrix}\n",
    "    =\n",
    "    \\begin{pmatrix}\n",
    "        1*1 +2*0 &  1*1+2*2\\\\\n",
    "        3*1 + 4*0 &  3*1 + 4*2\n",
    "    \\end{pmatrix}\n",
    "    =\n",
    "    \\begin{pmatrix}\n",
    "        1 & 5\\\\\n",
    "        3 & 11\n",
    "    \\end{pmatrix}\n",
    "\\end{equation}$$"
   ]
  },
  {
   "cell_type": "code",
   "execution_count": 38,
   "metadata": {},
   "outputs": [
    {
     "name": "stdout",
     "output_type": "stream",
     "text": [
      "[[1, 5], [3, 11]]\n"
     ]
    }
   ],
   "source": [
    "# Solución\n",
    "matrizA = [[1,2],[3,4]]\n",
    "matrizB = [[1,1],[0,2]]\n",
    "# sin solucionar\n",
    "resultado = [[0,0],[0,0]]\n",
    "\n",
    "# filas de A\n",
    "for i in range(len(matrizA)):\n",
    "    # columnas de B\n",
    "    for j in range(len(matrizB[0])):\n",
    "        # filas de B\n",
    "        for k in range(len(matrizB)):\n",
    "            resultado[i][j] += matrizA[i][k] * matrizB[k][j]\n",
    "print(resultado)"
   ]
  },
  {
   "cell_type": "markdown",
   "metadata": {},
   "source": [
    "### Ejemplo 2\n",
    "$$\n",
    "A = \\left(\n",
    "  \\begin{array}{rrr}\n",
    "  1 & 2 & 3\\\\\n",
    "  4 & 5 & 6\n",
    "  \\end{array}\n",
    "  \\right)\n",
    "  \\quad  y\n",
    "  \\quad\n",
    "  B = \\left(\n",
    "  \\begin{array}{rr}\n",
    "  -1 & 0\\\\\n",
    "  0 & 1\\\\\n",
    "  1 & 1\n",
    "  \\end{array}\n",
    "  \\right)\n",
    "$$"
   ]
  },
  {
   "cell_type": "code",
   "execution_count": 39,
   "metadata": {},
   "outputs": [
    {
     "name": "stdout",
     "output_type": "stream",
     "text": [
      "[[2, 5], [2, 11]]\n"
     ]
    }
   ],
   "source": [
    "# Solución\n",
    "matrizA = [[1,2,3],[4,5,6]]\n",
    "matrizB = [[-1,0],[0,1],[1,1]]\n",
    "# sin solucionar\n",
    "resultado = [[0,0],[0,0]]\n",
    "\n",
    "# filas de A\n",
    "for i in range(len(matrizA)):\n",
    "    # columnas de B\n",
    "    for j in range(len(matrizB[0])):\n",
    "        # filas de B\n",
    "        for k in range(len(matrizB)):\n",
    "            resultado[i][j] += matrizA[i][k] * matrizB[k][j]\n",
    "print(resultado)"
   ]
  }
 ],
 "metadata": {
  "kernelspec": {
   "display_name": "Python 3.10.4 64-bit",
   "language": "python",
   "name": "python3"
  },
  "language_info": {
   "codemirror_mode": {
    "name": "ipython",
    "version": 3
   },
   "file_extension": ".py",
   "mimetype": "text/x-python",
   "name": "python",
   "nbconvert_exporter": "python",
   "pygments_lexer": "ipython3",
   "version": "3.10.4"
  },
  "orig_nbformat": 4,
  "vscode": {
   "interpreter": {
    "hash": "9524c4952dd211fec7df7c73b3afac2dbc89a267f70352ce6257a0999e7cce99"
   }
  }
 },
 "nbformat": 4,
 "nbformat_minor": 2
}
