{
 "cells": [
  {
   "cell_type": "markdown",
   "metadata": {},
   "source": [
    "# Estructuras de control iterativas\n",
    "Las Estructuras de Control while (mientras) y for (para) nos van a permitir repetir una instrucción o conjunto de instrucciones mientras una expresión booleana resulte verdadera. Se las suele denominar Bucle While y Bucle For con el objetivo de destacar su naturaleza iterativa."
   ]
  },
  {
   "cell_type": "markdown",
   "metadata": {},
   "source": [
    "## For\n",
    "El bucle for nos permitirá establecer cuántas veces queremos o tenemos que iterar, sus componentes son:\n",
    "* Expresión inicial\n",
    "* Condición\n",
    "* Incremento o paso  \n",
    "\n",
    "En pseudocódigo: Para i = 1 Hasta i <= 10 Con Paso 1 Hacer  \n",
    "\n",
    "En Python con todos sus componentes:  \n",
    "```python\n",
    "for expresion in range(valor_inicial,condicion,paso):\n",
    "    instrucciones\n",
    "```\n",
    "Para poder usar este bucle solo es necesario poner la condición de paro, por defecto el valor_inicial = 0 y el paso = 1\n",
    "```python\n",
    "# siempre la condicion es menor que: i < condición\n",
    "for i in range(condicion):\n",
    "    instrucciones\n",
    "# si el paso es -1 es mayor que: i>condición\n",
    "for i in range(valor_inicial,condicion, -1):\n",
    "    instrucciones\n",
    "```\n",
    "\n",
    "En Python, ésta Estructura de Control Iterativa se caracteriza por iterar para cada uno de los elementos de una lista (o Tupla) sin que sea necesario modificar ninguna condición dentro del conjunto de instrucciones que dicho bucle contiene. Es decir, que nos mantendremos dentro del bucle siempre y cuando la lista siga teniendo elementos.\n",
    "\n",
    "Este bucle será de gran utilidad cuando iteremos sobre las filas y columnas de matrices.\n",
    "```python\n",
    "for i in range(n):\n",
    "    instrucciones\n",
    " \n",
    "```"
   ]
  },
  {
   "cell_type": "code",
   "execution_count": null,
   "metadata": {},
   "outputs": [],
   "source": [
    "#Ejemplo, i tomara valores de 0 a 9, el valor incia es 0 por defecto\n",
    "# i tomara valores menores a 10\n",
    "for i in range(10):\n",
    "    print(i)"
   ]
  },
  {
   "cell_type": "code",
   "execution_count": null,
   "metadata": {},
   "outputs": [],
   "source": [
    "# Ejemplo con todos sus componentes\n",
    "for i in range(6,20,2):\n",
    "    print(i)"
   ]
  },
  {
   "cell_type": "code",
   "execution_count": null,
   "metadata": {},
   "outputs": [],
   "source": [
    "# Ejemplo con el paso -1\n",
    "for i in range(10,0,-1):\n",
    "    print(i)"
   ]
  },
  {
   "cell_type": "markdown",
   "metadata": {},
   "source": [
    "## While\n",
    "Esta Estructura de Control Iterativa es muy útil cuando se requiere que un algoritmo se mantenga iterando una cantidad de n-veces hasta que deje de ser verdadera una cierta expresión booleana.\n",
    "```python\n",
    "while(condicion):\n",
    "    instrucciones\n",
    " \n",
    "```"
   ]
  },
  {
   "cell_type": "code",
   "execution_count": null,
   "metadata": {},
   "outputs": [],
   "source": [
    "# Ejemplo\n",
    "continuar = 1\n",
    "while(continuar):\n",
    "    continuar = int(input(\"Introduce 1 o 0 \"))\n",
    "    print(\"Hola mundo\")"
   ]
  },
  {
   "cell_type": "code",
   "execution_count": null,
   "metadata": {},
   "outputs": [],
   "source": [
    "continuar = \"y\"\n",
    "while(continuar == \"y\"):\n",
    "    continuar = input(\"Quieres continuar y/n:\")\n",
    "    print(\"Hola mundo\")"
   ]
  },
  {
   "cell_type": "code",
   "execution_count": null,
   "metadata": {},
   "outputs": [],
   "source": [
    "cont = 0\n",
    "while(cont<10):\n",
    "    print(\"Hola mundo\")\n",
    "    cont+=1"
   ]
  },
  {
   "cell_type": "markdown",
   "metadata": {},
   "source": [
    "## Do while\n",
    "Se usa cuando el problema a resolver requiere que se ejecute por lo menos una vez el ciclo. Se compone por una condicional cuya expresión se evalúa después de ejecutar el bloque de instrucciones.  \n",
    "\n",
    "Para crear un bucle do while en Python, necesitas modificar el bucle while un con el propósito de obtener un comportamiento similar al de los bucles do while en otros lenguajes.\n",
    "\n",
    "```python\n",
    " while(True):\n",
    "    instrucciones\n",
    "    if condicion:\n",
    "        break\n",
    "```"
   ]
  },
  {
   "cell_type": "code",
   "execution_count": null,
   "metadata": {},
   "outputs": [],
   "source": [
    "# Ejemplo\n",
    "palabra_secreta = \"python\"\n",
    "while(True):\n",
    "    dame_palabra = input(\"Ingresa la palabra secreta: \")\n",
    "    if dame_palabra == palabra_secreta:\n",
    "        break\n",
    "    print(\"Palabra secreta: incorrecta\")\n",
    "print(\"Palabra secreta: correcta\")"
   ]
  },
  {
   "cell_type": "code",
   "execution_count": null,
   "metadata": {},
   "outputs": [],
   "source": [
    "# Ejemplo menú\n",
    "while(True):\n",
    "    print(\"1.- opción 1\")\n",
    "    print(\"2.- opción 2\")\n",
    "    print(\"3.- opción 3\")\n",
    "    opt = int(input(\"Ingresa una opción: \"))\n",
    "    if 0 < opt and opt < 4:\n",
    "        break\n",
    "    else:\n",
    "        print(\"Error\")\n",
    "\n",
    "print(f\"elegiste la opción: {opt}\")\n",
    "    "
   ]
  },
  {
   "cell_type": "code",
   "execution_count": null,
   "metadata": {},
   "outputs": [],
   "source": []
  }
 ],
 "metadata": {
  "kernelspec": {
   "display_name": "Python 3.10.4 64-bit",
   "language": "python",
   "name": "python3"
  },
  "language_info": {
   "codemirror_mode": {
    "name": "ipython",
    "version": 3
   },
   "file_extension": ".py",
   "mimetype": "text/x-python",
   "name": "python",
   "nbconvert_exporter": "python",
   "pygments_lexer": "ipython3",
   "version": "3.10.4"
  },
  "orig_nbformat": 4,
  "vscode": {
   "interpreter": {
    "hash": "9524c4952dd211fec7df7c73b3afac2dbc89a267f70352ce6257a0999e7cce99"
   }
  }
 },
 "nbformat": 4,
 "nbformat_minor": 2
}
