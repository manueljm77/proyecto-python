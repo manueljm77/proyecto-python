{
 "cells": [
  {
   "cell_type": "markdown",
   "metadata": {},
   "source": [
    "# Diccionarios"
   ]
  },
  {
   "cell_type": "markdown",
   "metadata": {},
   "source": [
    "El diccionario de Python es una colección desordenada de elementos. Cada elemento de un diccionario tiene un key/valuepar.\n",
    "Los diccionarios están optimizados para recuperar valores cuando se conoce la clave."
   ]
  },
  {
   "cell_type": "markdown",
   "metadata": {},
   "source": [
    "## Crear diccionario"
   ]
  },
  {
   "cell_type": "code",
   "execution_count": 2,
   "metadata": {},
   "outputs": [
    {
     "name": "stdout",
     "output_type": "stream",
     "text": [
      "<class 'dict'>\n",
      "{}\n"
     ]
    }
   ],
   "source": [
    "# crear un diccionario\n",
    "diccionario = {}\n",
    "print(type(diccionario))\n",
    "print(diccionario)"
   ]
  },
  {
   "cell_type": "markdown",
   "metadata": {},
   "source": [
    "### Crear un diccionario con elementos"
   ]
  },
  {
   "cell_type": "markdown",
   "metadata": {},
   "source": [
    "Un elemento tiene un key y un correspondiente value que se expresa como un par ( clave: valor ).\n",
    "\n",
    "Si bien los valores pueden ser de cualquier tipo de datos y pueden repetirse, las claves deben ser de tipo inmutable ( cadena , número o tupla con elementos inmutables) y deben ser únicas."
   ]
  },
  {
   "cell_type": "code",
   "execution_count": 4,
   "metadata": {},
   "outputs": [
    {
     "name": "stdout",
     "output_type": "stream",
     "text": [
      "{1: 'uno'}\n"
     ]
    }
   ],
   "source": [
    "# dicionario con clave y valor\n",
    "diccionario = {1:\"uno\"} # 1 es clave y \"uno\" es valor\n",
    "print(diccionario)"
   ]
  },
  {
   "cell_type": "code",
   "execution_count": 7,
   "metadata": {},
   "outputs": [
    {
     "name": "stdout",
     "output_type": "stream",
     "text": [
      "{1: 'uno', 'dos': 2, 'datos': ['nombre', 'appellidos', 'edad'], (1, 2): 'uno y dos'}\n"
     ]
    }
   ],
   "source": [
    "# diccionario con diferentes tipos de clave ( tipos inmutable)\n",
    "diccionario = {\n",
    "    1:\"uno\",\n",
    "    \"dos\":2,\n",
    "    \"datos\":[\"nombre\",\"appellidos\",\"edad\"],\n",
    "    (1,2):\"uno y dos\"}\n",
    "print(diccionario)"
   ]
  },
  {
   "cell_type": "markdown",
   "metadata": {},
   "source": [
    "### Método <span style=\"color:#66D9EF\">dict()</span>"
   ]
  },
  {
   "cell_type": "code",
   "execution_count": 8,
   "metadata": {},
   "outputs": [
    {
     "name": "stdout",
     "output_type": "stream",
     "text": [
      "{'par': [2, 4, 6], 'impar': {1, 3, 5}}\n"
     ]
    }
   ],
   "source": [
    "diccionario_1 = dict({\"par\":[2,4,6],\"impar\":{1,3,5}})\n",
    "print(diccionario_1)"
   ]
  },
  {
   "cell_type": "code",
   "execution_count": 10,
   "metadata": {},
   "outputs": [
    {
     "name": "stdout",
     "output_type": "stream",
     "text": [
      "{1: 'uno', 2: 'dos', 3: 'tres'}\n"
     ]
    }
   ],
   "source": [
    "# parametro lista con tuplas(k,v)\n",
    "diccionario_2 = dict([(1,\"uno\"),(2,\"dos\"),(3,\"tres\")])\n",
    "print(diccionario_2)"
   ]
  },
  {
   "cell_type": "markdown",
   "metadata": {},
   "source": [
    "## Acceder a un elemento en la lista"
   ]
  },
  {
   "cell_type": "markdown",
   "metadata": {},
   "source": [
    "Mientras que la indexación se usa con otros tipos de datos para acceder a los valores, un diccionario usa keys. Las claves se pueden usar dentro de corchetes []o con el get()método.\n",
    "\n",
    "Si usamos los corchetes [], nos dara un error en caso de que no se encuentre una clave en el diccionario. Por otro lado, el get()método regresa None si no se encuentra la clave."
   ]
  },
  {
   "cell_type": "code",
   "execution_count": 22,
   "metadata": {},
   "outputs": [
    {
     "name": "stdout",
     "output_type": "stream",
     "text": [
      "5123698540\n",
      "5587943187\n",
      "5541397978\n"
     ]
    },
    {
     "ename": "KeyError",
     "evalue": "'Alf'",
     "output_type": "error",
     "traceback": [
      "\u001b[1;31m---------------------------------------------------------------------------\u001b[0m",
      "\u001b[1;31mKeyError\u001b[0m                                  Traceback (most recent call last)",
      "\u001b[1;32me:\\Developer\\Escuela_de_codigo\\4.-AnalisisDeDatosJr\\resource\\4_tipos_de_colecciones_de_datos\\diccionarios\\diccionarios.ipynb Celda 14\u001b[0m in \u001b[0;36m<cell line: 11>\u001b[1;34m()\u001b[0m\n\u001b[0;32m      <a href='vscode-notebook-cell:/e%3A/Developer/Escuela_de_codigo/4.-AnalisisDeDatosJr/resource/4_tipos_de_colecciones_de_datos/diccionarios/diccionarios.ipynb#X32sZmlsZQ%3D%3D?line=8'>9</a>\u001b[0m \u001b[39mprint\u001b[39m(agenda[\u001b[39m\"\u001b[39m\u001b[39mMari\u001b[39m\u001b[39m\"\u001b[39m])\n\u001b[0;32m     <a href='vscode-notebook-cell:/e%3A/Developer/Escuela_de_codigo/4.-AnalisisDeDatosJr/resource/4_tipos_de_colecciones_de_datos/diccionarios/diccionarios.ipynb#X32sZmlsZQ%3D%3D?line=9'>10</a>\u001b[0m \u001b[39m# Erro\u001b[39;00m\n\u001b[1;32m---> <a href='vscode-notebook-cell:/e%3A/Developer/Escuela_de_codigo/4.-AnalisisDeDatosJr/resource/4_tipos_de_colecciones_de_datos/diccionarios/diccionarios.ipynb#X32sZmlsZQ%3D%3D?line=10'>11</a>\u001b[0m \u001b[39mprint\u001b[39m(agenda[\u001b[39m\"\u001b[39;49m\u001b[39mAlf\u001b[39;49m\u001b[39m\"\u001b[39;49m])\n",
      "\u001b[1;31mKeyError\u001b[0m: 'Alf'"
     ]
    }
   ],
   "source": [
    "agenda= {\n",
    "    \"Angel\":5123698540,\n",
    "    \"Beto\":5587943187,\n",
    "    \"Gera\":5578941326,\n",
    "    \"Mari\":5541397978}\n",
    "\n",
    "print(agenda[\"Angel\"])\n",
    "print(agenda[\"Beto\"])\n",
    "print(agenda[\"Mari\"])\n",
    "# Erro\n",
    "print(agenda[\"Alf\"])"
   ]
  },
  {
   "cell_type": "markdown",
   "metadata": {},
   "source": [
    "### Método <span style=\"color:#66D9EF\">get(key,mensaje)</span>"
   ]
  },
  {
   "cell_type": "code",
   "execution_count": 21,
   "metadata": {},
   "outputs": [
    {
     "name": "stdout",
     "output_type": "stream",
     "text": [
      "5123698540\n",
      "None\n",
      "No existe\n"
     ]
    }
   ],
   "source": [
    "agenda= {\"Angel\":5123698540,\"Beto\":5587943187,\"Gera\":5578941326,\"Mari\":5541397978}\n",
    "print(agenda.get(\"Angel\"))\n",
    "print(agenda.get(\"Alf\"))\n",
    "print(agenda.get(\"Alf\",\"No existe\"))\n",
    "\n"
   ]
  },
  {
   "cell_type": "markdown",
   "metadata": {},
   "source": [
    "## Agregar elementos\n"
   ]
  },
  {
   "cell_type": "markdown",
   "metadata": {},
   "source": [
    "Los diccionarios son mutables. Podemos agregar nuevos artículos o cambiar el valor de los artículos existentes usando un operador de asignación.\n",
    "\n",
    "Si la clave ya está presente, el valor existente se actualiza. En caso de que la clave no esté presente, se agrega un nuevo par ( clave: valor ) al diccionario."
   ]
  },
  {
   "cell_type": "code",
   "execution_count": 26,
   "metadata": {},
   "outputs": [
    {
     "name": "stdout",
     "output_type": "stream",
     "text": [
      "{'nombre': 'Alfonso', 'apellido': '6z', 'promedio': 7.3}\n",
      "{'nombre': 'Alf', 'apellido': '6z', 'promedio': 7.3}\n",
      "{'nombre': 'Alf', 'apellido': '6z', 'promedio': 7.3, 'CURP': 'GOASDEG123121'}\n"
     ]
    }
   ],
   "source": [
    "# diccionario\n",
    "datos = {\"nombre\":\"Alfonso\",\"apellido\":\"6z\",\"promedio\":7.3}\n",
    "print(datos)\n",
    "datos[\"nombre\"] = \"Alf\"\n",
    "print(datos)\n",
    "datos[\"CURP\"] = \"GOASDEG123121\"\n",
    "print(datos)"
   ]
  },
  {
   "cell_type": "markdown",
   "metadata": {},
   "source": [
    "## Eliminar un elemento"
   ]
  },
  {
   "cell_type": "markdown",
   "metadata": {},
   "source": [
    "\n",
    "Podemos eliminar un elemento en particular en un diccionario usando el método pop(). Este método elimina un elemento con el proporcionado key y devuelve el value.\n",
    "\n",
    "El método popitem() se puede utilizar para eliminar y devolver un  par de elementos arbitrarios del diccionario (key, value). Todos los elementos se pueden eliminar a la vez, utilizando el método clear().\n",
    "\n",
    "También podemos usar la delpalabra clave para eliminar elementos individuales o todo el diccionario."
   ]
  },
  {
   "cell_type": "markdown",
   "metadata": {},
   "source": [
    "### Método pop(key) "
   ]
  },
  {
   "cell_type": "markdown",
   "metadata": {},
   "source": [
    "Retorna el valor de la llave que recibe como argumento"
   ]
  },
  {
   "cell_type": "code",
   "execution_count": 31,
   "metadata": {},
   "outputs": [
    {
     "name": "stdout",
     "output_type": "stream",
     "text": [
      "{1: 1, 2: 4, 3: 9, 4: 16, 5: 25}\n",
      "9\n",
      "{1: 1, 2: 4, 4: 16, 5: 25}\n"
     ]
    }
   ],
   "source": [
    "# cuadrados\n",
    "cuadrados = {1:1,2:4,3:9,4:16,5:25}\n",
    "print(cuadrados)\n",
    "# elimina y regresa el valor\n",
    "print(cuadrados.pop(3))\n",
    "print(cuadrados)\n"
   ]
  },
  {
   "cell_type": "markdown",
   "metadata": {},
   "source": [
    "### Método popitem()\n",
    "\n",
    "Retorna una tupla (key,value) del ultimo valor del diccionario"
   ]
  },
  {
   "cell_type": "code",
   "execution_count": 33,
   "metadata": {},
   "outputs": [
    {
     "name": "stdout",
     "output_type": "stream",
     "text": [
      "{1: 1, 2: 4, 3: 9, 4: 16, 5: 25}\n",
      "(5, 25)\n",
      "{1: 1, 2: 4, 3: 9, 4: 16}\n"
     ]
    }
   ],
   "source": [
    "# cuadrados\n",
    "cuadrados = {1:1,2:4,3:9,4:16,5:25}\n",
    "print(cuadrados)\n",
    "print(cuadrados.popitem())\n",
    "print(cuadrados)"
   ]
  },
  {
   "cell_type": "markdown",
   "metadata": {},
   "source": [
    "### Eliminar el diccionario"
   ]
  },
  {
   "cell_type": "markdown",
   "metadata": {},
   "source": [
    "#### Método clear()\n",
    "Elimina el contenido del diccionario, las tuplas(k,v)"
   ]
  },
  {
   "cell_type": "code",
   "execution_count": 34,
   "metadata": {},
   "outputs": [
    {
     "name": "stdout",
     "output_type": "stream",
     "text": [
      "{1: 1, 2: 4, 3: 9, 4: 16, 5: 25}\n",
      "{}\n"
     ]
    }
   ],
   "source": [
    "# cuadrados\n",
    "cuadrados = {1:1,2:4,3:9,4:16,5:25}\n",
    "print(cuadrados)\n",
    "cuadrados.clear()\n",
    "print(cuadrados)"
   ]
  },
  {
   "cell_type": "code",
   "execution_count": 38,
   "metadata": {},
   "outputs": [
    {
     "name": "stdout",
     "output_type": "stream",
     "text": [
      "{'nombre': 'Alfonso', 'apellido': '6z', 'promedio': 7.3}\n",
      "{}\n"
     ]
    }
   ],
   "source": [
    "datos = {\"nombre\":\"Alfonso\",\"apellido\":\"6z\",\"promedio\":7.3}\n",
    "print(datos)\n",
    "datos = {}\n",
    "print(datos)"
   ]
  },
  {
   "cell_type": "markdown",
   "metadata": {},
   "source": [
    "#### Con del"
   ]
  },
  {
   "cell_type": "code",
   "execution_count": 35,
   "metadata": {},
   "outputs": [
    {
     "name": "stdout",
     "output_type": "stream",
     "text": [
      "{1: 1, 2: 4, 3: 9, 4: 16, 5: 25}\n"
     ]
    },
    {
     "ename": "NameError",
     "evalue": "name 'cuadrados' is not defined",
     "output_type": "error",
     "traceback": [
      "\u001b[1;31m---------------------------------------------------------------------------\u001b[0m",
      "\u001b[1;31mNameError\u001b[0m                                 Traceback (most recent call last)",
      "\u001b[1;32me:\\Developer\\Escuela_de_codigo\\4.-AnalisisDeDatosJr\\resource\\4_tipos_de_colecciones_de_datos\\diccionarios\\diccionarios.ipynb Celda 31\u001b[0m in \u001b[0;36m<cell line: 5>\u001b[1;34m()\u001b[0m\n\u001b[0;32m      <a href='vscode-notebook-cell:/e%3A/Developer/Escuela_de_codigo/4.-AnalisisDeDatosJr/resource/4_tipos_de_colecciones_de_datos/diccionarios/diccionarios.ipynb#X62sZmlsZQ%3D%3D?line=2'>3</a>\u001b[0m \u001b[39mprint\u001b[39m(cuadrados)\n\u001b[0;32m      <a href='vscode-notebook-cell:/e%3A/Developer/Escuela_de_codigo/4.-AnalisisDeDatosJr/resource/4_tipos_de_colecciones_de_datos/diccionarios/diccionarios.ipynb#X62sZmlsZQ%3D%3D?line=3'>4</a>\u001b[0m \u001b[39mdel\u001b[39;00m cuadrados\n\u001b[1;32m----> <a href='vscode-notebook-cell:/e%3A/Developer/Escuela_de_codigo/4.-AnalisisDeDatosJr/resource/4_tipos_de_colecciones_de_datos/diccionarios/diccionarios.ipynb#X62sZmlsZQ%3D%3D?line=4'>5</a>\u001b[0m \u001b[39mprint\u001b[39m(cuadrados)\n",
      "\u001b[1;31mNameError\u001b[0m: name 'cuadrados' is not defined"
     ]
    }
   ],
   "source": [
    "# cuadrados\n",
    "cuadrados = {1:1,2:4,3:9,4:16,5:25}\n",
    "print(cuadrados)\n",
    "del cuadrados\n",
    "print(cuadrados)"
   ]
  },
  {
   "cell_type": "markdown",
   "metadata": {},
   "source": [
    "## Comprobar si un elemento existe en el diccionario"
   ]
  },
  {
   "cell_type": "markdown",
   "metadata": {},
   "source": [
    "Con In solo podemos verificar si existe la llave"
   ]
  },
  {
   "cell_type": "code",
   "execution_count": 37,
   "metadata": {},
   "outputs": [
    {
     "name": "stdout",
     "output_type": "stream",
     "text": [
      "True\n",
      "False\n"
     ]
    }
   ],
   "source": [
    "datos = {\"nombre\":\"Alfonso\",\"apellido\":\"6z\",\"promedio\":7.3}\n",
    "print(\"nombre\" in datos)\n",
    "print(\"Alfonso\" in datos)\n"
   ]
  },
  {
   "cell_type": "markdown",
   "metadata": {},
   "source": [
    "## Algunos métodos"
   ]
  },
  {
   "cell_type": "markdown",
   "metadata": {},
   "source": [
    "### Método Keys()\n",
    "Devuelve un dict_key que se puede aplicar un cast de alguna coleccion(lista o tuple) de las llaves del diccionario"
   ]
  },
  {
   "cell_type": "code",
   "execution_count": 42,
   "metadata": {},
   "outputs": [
    {
     "name": "stdout",
     "output_type": "stream",
     "text": [
      "('nombre', 'apellido', 'promedio')\n",
      "['nombre', 'apellido', 'promedio']\n",
      "dict_keys(['nombre', 'apellido', 'promedio'])\n"
     ]
    }
   ],
   "source": [
    "datos = {\"nombre\":\"Alfonso\",\"apellido\":\"6z\",\"promedio\":7.3}\n",
    "print(tuple(datos.keys()))\n",
    "print(list(datos.keys()))\n",
    "print((datos.keys()))\n"
   ]
  },
  {
   "cell_type": "markdown",
   "metadata": {},
   "source": [
    "### Método values()\n",
    "Devuelve un dict_values que se puede aplicar un cast de alguna coleccion(lista o tuple) de los valores del diccionario"
   ]
  },
  {
   "cell_type": "code",
   "execution_count": 43,
   "metadata": {},
   "outputs": [
    {
     "name": "stdout",
     "output_type": "stream",
     "text": [
      "('Alfonso', '6z', 7.3)\n",
      "['Alfonso', '6z', 7.3]\n",
      "dict_values(['Alfonso', '6z', 7.3])\n"
     ]
    }
   ],
   "source": [
    "datos = {\"nombre\":\"Alfonso\",\"apellido\":\"6z\",\"promedio\":7.3}\n",
    "print(tuple(datos.values()))\n",
    "print(list(datos.values()))\n",
    "print((datos.values()))"
   ]
  },
  {
   "cell_type": "markdown",
   "metadata": {},
   "source": [
    "### Método items()\n",
    "Devuelve un dict_items que contiene las tuplas (k,v), igual se puede aplicar un cast de alguna colección iterable"
   ]
  },
  {
   "cell_type": "code",
   "execution_count": 45,
   "metadata": {},
   "outputs": [
    {
     "name": "stdout",
     "output_type": "stream",
     "text": [
      "(('nombre', 'Alfonso'), ('apellido', '6z'), ('promedio', 7.3))\n",
      "[('nombre', 'Alfonso'), ('apellido', '6z'), ('promedio', 7.3)]\n",
      "dict_items([('nombre', 'Alfonso'), ('apellido', '6z'), ('promedio', 7.3)])\n"
     ]
    }
   ],
   "source": [
    "datos = {\"nombre\":\"Alfonso\",\"apellido\":\"6z\",\"promedio\":7.3}\n",
    "print(tuple(datos.items()))\n",
    "print(list(datos.items()))\n",
    "print(datos.items())"
   ]
  },
  {
   "cell_type": "markdown",
   "metadata": {},
   "source": [
    "## Recorrer un diccionario con for y items()"
   ]
  },
  {
   "cell_type": "code",
   "execution_count": 47,
   "metadata": {},
   "outputs": [
    {
     "name": "stdout",
     "output_type": "stream",
     "text": [
      "Alfonso  ,  nombre\n",
      "6z  ,  apellido\n",
      "7.3  ,  promedio\n"
     ]
    }
   ],
   "source": [
    "datos = {\"nombre\":\"Alfonso\",\"apellido\":\"6z\",\"promedio\":7.3}\n",
    "for k,v in datos.items():\n",
    "    print(f\"{v}  ,  {k}\")"
   ]
  },
  {
   "cell_type": "code",
   "execution_count": 48,
   "metadata": {},
   "outputs": [
    {
     "name": "stdout",
     "output_type": "stream",
     "text": [
      "1 , 1\n",
      "2 , 4\n",
      "3 , 9\n",
      "4 , 16\n",
      "5 , 25\n"
     ]
    }
   ],
   "source": [
    "cuadrados = {1:1,2:4,3:9,4:16,5:25}\n",
    "for llave,valor in cuadrados.items():\n",
    "    print(f\"{llave} , {valor}\")"
   ]
  },
  {
   "cell_type": "code",
   "execution_count": null,
   "metadata": {},
   "outputs": [],
   "source": []
  }
 ],
 "metadata": {
  "kernelspec": {
   "display_name": "Python 3.10.4 64-bit",
   "language": "python",
   "name": "python3"
  },
  "language_info": {
   "codemirror_mode": {
    "name": "ipython",
    "version": 3
   },
   "file_extension": ".py",
   "mimetype": "text/x-python",
   "name": "python",
   "nbconvert_exporter": "python",
   "pygments_lexer": "ipython3",
   "version": "3.10.4"
  },
  "orig_nbformat": 4,
  "vscode": {
   "interpreter": {
    "hash": "9524c4952dd211fec7df7c73b3afac2dbc89a267f70352ce6257a0999e7cce99"
   }
  }
 },
 "nbformat": 4,
 "nbformat_minor": 2
}
