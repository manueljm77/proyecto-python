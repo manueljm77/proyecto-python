{
 "cells": [
  {
   "cell_type": "markdown",
   "metadata": {},
   "source": [
    "# Tuplas"
   ]
  },
  {
   "cell_type": "markdown",
   "metadata": {},
   "source": [
    "Es una colección de objetos separados por comas.\n",
    "Las tuplas son idénticas a las listas en todos los aspectos, excepto por las siguientes propiedades:\n",
    "* Las tuplas se definen encerrando los elementos entre paréntesis ( ()) en lugar de corchetes ( []).\n",
    "* Las tuplas son inmutables."
   ]
  },
  {
   "cell_type": "markdown",
   "metadata": {},
   "source": [
    "## Crear una tupla"
   ]
  },
  {
   "cell_type": "code",
   "execution_count": 1,
   "metadata": {},
   "outputs": [
    {
     "name": "stdout",
     "output_type": "stream",
     "text": [
      "<class 'tuple'>\n"
     ]
    }
   ],
   "source": [
    "# creando una lista vacia\n",
    "tupla = ()\n",
    "print(type(tupla))"
   ]
  },
  {
   "cell_type": "markdown",
   "metadata": {},
   "source": [
    "### Crear tupla con elementos"
   ]
  },
  {
   "cell_type": "code",
   "execution_count": 2,
   "metadata": {},
   "outputs": [
    {
     "name": "stdout",
     "output_type": "stream",
     "text": [
      "(1, 2, 3, 4)\n"
     ]
    }
   ],
   "source": [
    "# Crear tupla con elementos\n",
    "tupla = (1,2,3,4)\n",
    "print(tupla)"
   ]
  },
  {
   "cell_type": "code",
   "execution_count": 6,
   "metadata": {},
   "outputs": [
    {
     "name": "stdout",
     "output_type": "stream",
     "text": [
      "Con paréntesis\n",
      "1\n",
      "Con paréntesis y coma\n",
      "(1,)\n",
      "Con coma\n",
      "('hola',)\n"
     ]
    }
   ],
   "source": [
    "# Tupla con un solo elemento\n",
    "tupla_n = (1) # no es una tupla\n",
    "tupla_1 = (1,)\n",
    "tupla_2 = \"hola\",\n",
    "print(\"Con paréntesis\")\n",
    "print(tupla_n)\n",
    "print(\"Con paréntesis y coma\")\n",
    "print(tupla_1)\n",
    "print(\"Con coma\")\n",
    "print(tupla_2)"
   ]
  },
  {
   "cell_type": "code",
   "execution_count": 17,
   "metadata": {},
   "outputs": [
    {
     "name": "stdout",
     "output_type": "stream",
     "text": [
      "<generator object <genexpr> at 0x0000022B78C050E0>\n",
      "(0, 1, 2, 3, 4, 5, 6, 7, 8, 9)\n",
      "('H', 'o', 'l', 'a', ' ', 'M', 'u', 'n', 'd', 'o')\n"
     ]
    }
   ],
   "source": [
    "# con generadores\n",
    "tupla = (i for i in range(10))\n",
    "print(tupla)\n",
    "# se tiene que convertir a tupla\n",
    "tupla_t = tuple(i for i in range(10))\n",
    "print(tupla_t)\n",
    "\n",
    "saludo = \"Hola Mundo\"\n",
    "tupla_s = tuple(letra for letra in saludo)\n",
    "print(tupla_s)\n"
   ]
  },
  {
   "cell_type": "markdown",
   "metadata": {},
   "source": [
    "### tuplas anidadas"
   ]
  },
  {
   "cell_type": "code",
   "execution_count": 10,
   "metadata": {},
   "outputs": [
    {
     "name": "stdout",
     "output_type": "stream",
     "text": [
      "(1, (2, (3, (4,))))\n",
      "('hola', 'mundo', (1, 2, 3, ('!', '#')), False, True)\n"
     ]
    }
   ],
   "source": [
    "# Tuplas anidadas\n",
    "tupla = 1,(2,(3,(4,)))\n",
    "print(tupla)\n",
    "tupla_1 = (\"hola\",\"mundo\",(1,2,3,('!',\"#\")),3>4,True and True)\n",
    "print(tupla_1)"
   ]
  },
  {
   "cell_type": "markdown",
   "metadata": {},
   "source": [
    "## \"Agregar elementos\""
   ]
  },
  {
   "cell_type": "markdown",
   "metadata": {},
   "source": [
    "Las tuplas son inmutables, si agregamos elementos en realidad se creará otro objeto de tipo tuple"
   ]
  },
  {
   "cell_type": "code",
   "execution_count": 24,
   "metadata": {},
   "outputs": [
    {
     "name": "stdout",
     "output_type": "stream",
     "text": [
      "2385734224960\n",
      "2385734132512\n"
     ]
    }
   ],
   "source": [
    "# inmutabilidad\n",
    "tupla = (1,2,3)\n",
    "print(id(tupla))\n",
    "tupla += (5,6,7)\n",
    "print(id(tupla))"
   ]
  },
  {
   "cell_type": "code",
   "execution_count": 29,
   "metadata": {},
   "outputs": [
    {
     "name": "stdout",
     "output_type": "stream",
     "text": [
      "(1, 2, 3, 4, [5, 6, 7])\n",
      "2385734676416\n",
      "2385734676416\n",
      "(1, 2, 3, 4, ['?', 6, 7])\n"
     ]
    }
   ],
   "source": [
    "# agregando una lista\n",
    "tupla = (1,2,3,4)\n",
    "# tupla con un elemento\n",
    "tupla += ([5,6,7],)\n",
    "print(tupla)\n",
    "print(id(tupla))\n",
    "# si modificamos la lista dentro de la tupla no se crea otro objeto\n",
    "tupla[4][0]=\"?\"\n",
    "print(id(tupla))\n",
    "print(tupla)\n"
   ]
  },
  {
   "cell_type": "markdown",
   "metadata": {},
   "source": [
    "## Acceder a un elemento"
   ]
  },
  {
   "cell_type": "markdown",
   "metadata": {},
   "source": [
    "### Índice de tupla"
   ]
  },
  {
   "cell_type": "markdown",
   "metadata": {},
   "source": [
    "Se puede acceder a un elemento mediante su indice, al igual que las listas para acceder a elementos anidados se utiliza indexación anidada"
   ]
  },
  {
   "cell_type": "code",
   "execution_count": 30,
   "metadata": {},
   "outputs": [
    {
     "name": "stdout",
     "output_type": "stream",
     "text": [
      "1\n",
      "10\n"
     ]
    }
   ],
   "source": [
    "tupla =(1,2,3,4,5,6,7,8,9,10)\n",
    "print(tupla[0])\n",
    "print(tupla[9])"
   ]
  },
  {
   "cell_type": "code",
   "execution_count": 31,
   "metadata": {},
   "outputs": [
    {
     "name": "stdout",
     "output_type": "stream",
     "text": [
      "(9, 10)\n",
      "10\n",
      "(((('?',),),),)\n",
      "((('?',),),)\n",
      "(('?',),)\n",
      "('?',)\n",
      "?\n"
     ]
    }
   ],
   "source": [
    "# tupla con listas\n",
    "tupla = (1,2,3,(4,5,6,7,8),(9,10),((((\"?\",),),),),)\n",
    "# mostrar 10\n",
    "print(tupla[4])\n",
    "print(tupla[4][1])\n",
    "# mostrar ? \n",
    "print(tupla[5])\n",
    "print(tupla[5][0])\n",
    "print(tupla[5][0][0])\n",
    "print(tupla[5][0][0][0])\n",
    "print(tupla[5][0][0][0][0])"
   ]
  },
  {
   "cell_type": "markdown",
   "metadata": {},
   "source": [
    "### Indexación negativa"
   ]
  },
  {
   "cell_type": "code",
   "execution_count": 32,
   "metadata": {},
   "outputs": [
    {
     "name": "stdout",
     "output_type": "stream",
     "text": [
      "151\n",
      "150\n",
      "0\n"
     ]
    }
   ],
   "source": [
    "tupla = tuple(i for i in range(152))\n",
    "# ultimo elento\n",
    "print(tupla[-1])\n",
    "# penultimo\n",
    "print(tupla[-2])\n",
    "# primer elemento\n",
    "print(tupla[-len(tupla)])"
   ]
  },
  {
   "cell_type": "markdown",
   "metadata": {},
   "source": [
    "## Contar elementos"
   ]
  },
  {
   "cell_type": "markdown",
   "metadata": {},
   "source": [
    "### Método <span style=\"color:#66D9EF\">len()</span>"
   ]
  },
  {
   "cell_type": "code",
   "execution_count": 35,
   "metadata": {},
   "outputs": [
    {
     "name": "stdout",
     "output_type": "stream",
     "text": [
      "125\n",
      "90\n"
     ]
    }
   ],
   "source": [
    "# llenamos una tupla\n",
    "tupla_i = tuple(i for i in range(125))\n",
    "print(len(tupla_i))\n",
    "txt = \"Officia voluptate velit dolore laboris elit mollit commodo pariatur ea dolor nostrud elit.\"\n",
    "tupla_txt = tuple(letra for letra in txt)\n",
    "print(len(tupla_txt))"
   ]
  },
  {
   "cell_type": "markdown",
   "metadata": {},
   "source": [
    "### Método <span style=\"color:#66D9EF\">count()</span>"
   ]
  },
  {
   "cell_type": "code",
   "execution_count": 40,
   "metadata": {},
   "outputs": [
    {
     "name": "stdout",
     "output_type": "stream",
     "text": [
      "6\n"
     ]
    }
   ],
   "source": [
    "tupla = (1,2,3,1,2,3,1,9,1,1,5,8,1,6,8,7,8)\n",
    "print(tupla.count(1))"
   ]
  },
  {
   "cell_type": "markdown",
   "metadata": {},
   "source": [
    "## Comprobar si un elemento esta en una tupla"
   ]
  },
  {
   "cell_type": "code",
   "execution_count": 42,
   "metadata": {},
   "outputs": [
    {
     "name": "stdout",
     "output_type": "stream",
     "text": [
      "True\n",
      "False\n",
      "True\n"
     ]
    }
   ],
   "source": [
    "tupla = (\"hola\",1,3,3,True,1.7,3,4,8,3,5,1,3)\n",
    "print(1 in tupla)\n",
    "print( 1 not in tupla)\n",
    "print( \"saludo\" not in tupla)"
   ]
  },
  {
   "cell_type": "markdown",
   "metadata": {},
   "source": [
    "### Método <span style=\"color:#66D9EF\">index()</span>"
   ]
  },
  {
   "cell_type": "code",
   "execution_count": 46,
   "metadata": {},
   "outputs": [
    {
     "name": "stdout",
     "output_type": "stream",
     "text": [
      "0\n",
      "5\n"
     ]
    }
   ],
   "source": [
    "tupla = (1,2,3,4,4,1,4,5,3,2,1,3,4,5)\n",
    "indice_1 = tupla.index(1)\n",
    "print(indice_1)\n",
    "# buscar despues de la posición 3 \n",
    "indice_p = tupla.index(1,3)\n",
    "print(indice_p)"
   ]
  },
  {
   "cell_type": "markdown",
   "metadata": {},
   "source": [
    "## Rebanar una tupla"
   ]
  },
  {
   "cell_type": "code",
   "execution_count": 48,
   "metadata": {},
   "outputs": [
    {
     "name": "stdout",
     "output_type": "stream",
     "text": [
      "Inversión de una tupla\n",
      "(49, 48, 47, 46, 45, 44, 43, 42, 41, 40, 39, 38, 37, 36, 35, 34, 33, 32, 31, 30, 29, 28, 27, 26, 25, 24, 23, 22, 21, 20, 19, 18, 17, 16, 15, 14, 13, 12, 11, 10, 9, 8, 7, 6, 5, 4, 3, 2, 1, 0)\n",
      "indice impares\n",
      "(0, 2, 4, 6, 8, 10, 12, 14, 16, 18, 20, 22, 24, 26, 28, 30, 32, 34, 36, 38, 40, 42, 44, 46, 48)\n",
      "Para imprimir un elmentos desde el pirncipio hasta un rango\n",
      "(0, 1, 2, 3, 4, 5, 6, 7, 8, 9)\n",
      "Para imprimir elementos desde el  final:\n",
      "(0, 1, 2, 3, 4, 5, 6, 7, 8, 9, 10, 11, 12, 13, 14, 15, 16, 17, 18, 19, 20, 21, 22, 23, 24, 25, 26, 27, 28, 29)\n",
      "Para imprimir elementos de un índice específico hasta el final \n",
      "(40, 41, 42, 43, 44, 45, 46, 47, 48, 49)\n",
      "Para imprimir la tupla completa en orden inverso\n",
      "(49, 48, 47, 46, 45, 44, 43, 42, 41, 40, 39, 38, 37, 36, 35, 34, 33, 32, 31, 30, 29, 28, 27, 26, 25, 24, 23, 22, 21, 20, 19, 18, 17, 16, 15, 14, 13, 12, 11, 10, 9, 8, 7, 6, 5, 4, 3, 2, 1, 0)\n",
      "Para imprimir elementos en un rango\n",
      "(10, 11, 12, 13, 14, 15, 16, 17, 18, 19)\n"
     ]
    }
   ],
   "source": [
    "tupla = tuple(i for i in range(50))\n",
    "print(\"Inversión de una tupla\")\n",
    "print(tupla[::-1])\n",
    "print(\"indice impares\")\n",
    "print(tupla[::2])\n",
    "print(\"Para imprimir un elmentos desde el pirncipio hasta un rango\")\n",
    "print(tupla[:10])\n",
    "print(\"Para imprimir elementos desde el  final:\")\n",
    "print(tupla[:-20])\n",
    "print(\"Para imprimir elementos de un índice específico hasta el final \")\n",
    "print(tupla[40:])\n",
    "print(\"Para imprimir la tupla completa en orden inverso\")\n",
    "print(tupla[::-1])\n",
    "print(\"Para imprimir elementos en un rango\")\n",
    "print(tupla[10:20])"
   ]
  },
  {
   "cell_type": "markdown",
   "metadata": {},
   "source": [
    "## Copiar una tupla"
   ]
  },
  {
   "cell_type": "code",
   "execution_count": 62,
   "metadata": {},
   "outputs": [
    {
     "name": "stdout",
     "output_type": "stream",
     "text": [
      "2385734514576\n",
      "2385734514576\n",
      "(1, 2, 3, 4, 1)\n",
      "(1, 2, 3, 4)\n",
      "2385734552928\n",
      "2385734514576\n"
     ]
    }
   ],
   "source": [
    "tupla = (1,2,3,4)\n",
    "# copiar tupla\n",
    "tupla2 = tupla\n",
    "# id iguales, copia por referencia\n",
    "print(id(tupla))\n",
    "print(id(tupla2))\n",
    "tupla+=(1,)\n",
    "print(tupla)\n",
    "print(tupla2)\n",
    "# se crea otor objeto\n",
    "print(id(tupla))\n",
    "print(id(tupla2))"
   ]
  }
 ],
 "metadata": {
  "kernelspec": {
   "display_name": "Python 3.10.4 64-bit",
   "language": "python",
   "name": "python3"
  },
  "language_info": {
   "codemirror_mode": {
    "name": "ipython",
    "version": 3
   },
   "file_extension": ".py",
   "mimetype": "text/x-python",
   "name": "python",
   "nbconvert_exporter": "python",
   "pygments_lexer": "ipython3",
   "version": "3.10.4"
  },
  "orig_nbformat": 4,
  "vscode": {
   "interpreter": {
    "hash": "9524c4952dd211fec7df7c73b3afac2dbc89a267f70352ce6257a0999e7cce99"
   }
  }
 },
 "nbformat": 4,
 "nbformat_minor": 2
}
