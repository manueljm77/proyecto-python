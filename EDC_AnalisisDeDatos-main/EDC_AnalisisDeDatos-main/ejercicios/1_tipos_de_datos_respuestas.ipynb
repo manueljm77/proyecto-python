{
 "cells": [
  {
   "cell_type": "markdown",
   "metadata": {},
   "source": [
    "# Ejercicios de Tipos de Datos Simples"
   ]
  },
  {
   "cell_type": "markdown",
   "metadata": {},
   "source": [
    "### Ejercicio 1\n",
    "Escribir un programa que muestre por pantalla la cadena <span style=\"color:#66D9EF\">¡Hola Mundo!</span>."
   ]
  },
  {
   "cell_type": "code",
   "execution_count": 1,
   "metadata": {},
   "outputs": [
    {
     "name": "stdout",
     "output_type": "stream",
     "text": [
      "¡Hola Mundo!\n"
     ]
    }
   ],
   "source": [
    "# Solución\n",
    "print(\"¡Hola Mundo!\")"
   ]
  },
  {
   "cell_type": "markdown",
   "metadata": {},
   "source": [
    "### Ejercicio 2\n",
    "Escribir un programa que almacene la cadena <span style=\"color:#66D9EF\">¡Hola Mundo!</span> en una variable y luego muestre por pantalla el contenido de la variable"
   ]
  },
  {
   "cell_type": "code",
   "execution_count": 2,
   "metadata": {},
   "outputs": [
    {
     "name": "stdout",
     "output_type": "stream",
     "text": [
      "¡Hola Mundo!\n"
     ]
    }
   ],
   "source": [
    "# Solución\n",
    "# Almacenamos en una variable\n",
    "saludo = \"¡Hola Mundo!\"\n",
    "# Mostramos en pantañña el contenido\n",
    "print(saludo)"
   ]
  },
  {
   "cell_type": "markdown",
   "metadata": {},
   "source": [
    "### Ejercicio 3\n",
    "Escribir un programa que pregunte el nombre del usuario en la consola y después de que el usuario lo introduzca muestre por pantalla la cadena <span style=\"color:#66D9EF \">¡Hola \\<nombre\\>!</span>, donde <span style=\"color:#66D9EF\">\\<nombre\\></span> es el nombre que el usuario haya introducido."
   ]
  },
  {
   "cell_type": "code",
   "execution_count": 3,
   "metadata": {},
   "outputs": [
    {
     "name": "stdout",
     "output_type": "stream",
     "text": [
      "HolaAlfonso\n",
      "Hola Alfonso\n",
      "Hola Alfonso\n"
     ]
    }
   ],
   "source": [
    "# Solución\n",
    "# dato de entrada, input retorna siempre un str\n",
    "nombre = input(\"Ingresa tu nombre\")\n",
    "# concatenando con +, no agrega espacio\n",
    "print(\"Hola\"+nombre)\n",
    "# concatenando con , agrega espacio\n",
    "print(\"Hola\",nombre)\n",
    "# inyectando el nombre\n",
    "print(f\"Hola {nombre}\")"
   ]
  },
  {
   "cell_type": "markdown",
   "metadata": {},
   "source": [
    "### Ejercicio 4\n",
    "Escribir un programa que muestre por pantalla el resultado de la siguiente operación aritmética:\n",
    "$$ \\left(\\frac{3+2}{2*5}\\right)^2$$"
   ]
  },
  {
   "cell_type": "code",
   "execution_count": 5,
   "metadata": {},
   "outputs": [
    {
     "name": "stdout",
     "output_type": "stream",
     "text": [
      "0.25\n"
     ]
    }
   ],
   "source": [
    "# solución\n",
    "# escribimos la operación con operadores aritmeticos\n",
    "operacion=((3+2)/(2*5))**2\n",
    "# mostramos resultado\n",
    "print(operacion)"
   ]
  },
  {
   "cell_type": "markdown",
   "metadata": {},
   "source": [
    "### Ejercicio 5\n",
    "Escribir un programa que pregunte al usuario por el número de horas trabajadas y el coste por hora. Después debe mostrar por pantalla la paga que le corresponde."
   ]
  },
  {
   "cell_type": "code",
   "execution_count": 9,
   "metadata": {},
   "outputs": [
    {
     "name": "stdout",
     "output_type": "stream",
     "text": [
      "El sueldo es = $4500.0\n"
     ]
    }
   ],
   "source": [
    "# solución\n",
    "# el número de horas es tipo entero (int), hay que hacer un cast a input\n",
    "numero_de_horas = int(input(\"Ingresa el número de horas trabajadas: \"))\n",
    "# el precio por hora es tipo flotant (float), hay que hacer un cast a input\n",
    "precio_por_hora = float(input(\"Ingresa el precio por hora: \"))\n",
    "# calculamos paga\n",
    "paga = numero_de_horas * precio_por_hora\n",
    "# mostramos el resultado\n",
    "print(f\"El sueldo es = ${paga}\")"
   ]
  },
  {
   "cell_type": "markdown",
   "metadata": {},
   "source": [
    "### Ejercicio 6\n",
    "Escribir un programa que lea un entero positivo, _n_, introducido por el usuario y después muestre en pantalla la suma de todos los enteros desde 1 hasta _n_ . La suma de los *n* primeros enteros positivos puede ser calculada de la siguiente forma:  \n",
    "$$suma = \\frac{n(n+1)}{2}$$"
   ]
  },
  {
   "cell_type": "code",
   "execution_count": 10,
   "metadata": {},
   "outputs": [
    {
     "name": "stdout",
     "output_type": "stream",
     "text": [
      "15.0\n"
     ]
    }
   ],
   "source": [
    "# solución\n",
    "# entrada en entero\n",
    "n = int(input(\"Introduce un número: \"))\n",
    "# formula para sumar\n",
    "suma = (n*(n+1))/2\n",
    "# mostrar resultado\n",
    "print(suma)"
   ]
  },
  {
   "cell_type": "markdown",
   "metadata": {},
   "source": [
    "### Ejercicio 7\n",
    "Escribir un programa que pida al usuario su peso (en kg) y estatura (en metros), calcule el índice de masa corporal y lo almacene en una variable, y muestre por pantalla la frase Tu índice de masa corporal es <span style=\"color:#66D9EF\">imc</span> donde <span style=\"color:#66D9EF\">imc</span> es el índice de masa corporal calculado redondeado con dos decimales. \n",
    "$$imc = \\frac {peso(kg)}{estarura(m)^2} $$"
   ]
  },
  {
   "cell_type": "code",
   "execution_count": 28,
   "metadata": {},
   "outputs": [
    {
     "name": "stdout",
     "output_type": "stream",
     "text": [
      "el IMC =  22.86\n",
      "el IMC =  22.857142857142858\n",
      "el IMC =  22.85\n"
     ]
    }
   ],
   "source": [
    "# solución\n",
    "import math\n",
    "# kg es real \n",
    "peso = float(input(\"Ingresa tu peso: \"))\n",
    "# metros es real \n",
    "estatura = float(input(\"Ingresa tu estatura: \"))\n",
    "# el indice de masa corporal\n",
    "imc = peso/estatura**2\n",
    "# mostrar resultado\n",
    "print(\"el IMC = \",round(imc,2))\n",
    "print(\"el IMC = \",imc)\n",
    "# una solución a truncar a 2 decimales \n",
    "imc = imc*100\n",
    "imc = int(imc)\n",
    "imc = imc/100\n",
    "print(\"el IMC = \",imc)"
   ]
  },
  {
   "cell_type": "markdown",
   "metadata": {},
   "source": [
    "### Ejercicio 8\n",
    "Escribir un programa que pida al usuario dos números enteros y muestre por pantalla la <span style=\"color:#66D9EF \">n</span> entre <span style=\"color:#66D9EF \">m</span> da un cociente <span style=\"color:#66D9EF \">c</span> y un resto <span style=\"color:#66D9EF \">r</span> donde <span style=\"color:#66D9EF \">n y m</span> son los números introducidos por el usuario, y <span style=\"color:#66D9EF \">c y r</span> son el cociente y el resto de la división entera respectivamente."
   ]
  },
  {
   "cell_type": "code",
   "execution_count": 15,
   "metadata": {},
   "outputs": [
    {
     "name": "stdout",
     "output_type": "stream",
     "text": [
      "n = 30\n",
      "m = 7\n",
      "c = 4\n",
      "r = 2\n"
     ]
    }
   ],
   "source": [
    "# solución\n",
    "# dos números enteros\n",
    "n = int(input(\"Ingresa el primer número: \"))\n",
    "m = int(input(\"Ingresa el segundo número: \"))\n",
    "# calculamos el cociente\n",
    "c = int(n/m)\n",
    "# calculamos el resto\n",
    "r = n%m\n",
    "# mostramos resultados\n",
    "print(f'''n = {n}\n",
    "m = {m}\n",
    "c = {c}\n",
    "r = {r}''')"
   ]
  },
  {
   "cell_type": "markdown",
   "metadata": {},
   "source": [
    "### Ejercicio 9\n",
    "Escribir un programa que pregunte al usuario una cantidad a invertir, el interés anual y el número de años, y muestre por pantalla el capital obtenido en la inversión."
   ]
  },
  {
   "cell_type": "code",
   "execution_count": 17,
   "metadata": {},
   "outputs": [
    {
     "name": "stdout",
     "output_type": "stream",
     "text": [
      " cantidad a invertir = 100.0\n",
      "interes anual = 0.1\n",
      "números de años = 2\n",
      "capital = 120.0\n"
     ]
    }
   ],
   "source": [
    "# Solución\n",
    "# cantidad a invertir real\n",
    "cantidad_invertir = float(input(\"Ingresa la cantidad a invertir $ \"))\n",
    "# interes anual real, dividir entre 100 para optenerlo como porcentaje\n",
    "i_anual = float(input(\"Ingresa el interes anual: \"))/100\n",
    "# numero de años en entero\n",
    "n_anios = int(input(\"Ingresa el núemro de años: \"))\n",
    "# calcula capital\n",
    "capital = cantidad_invertir*i_anual*n_anios + cantidad_invertir\n",
    "# mostrar resultado\n",
    "print(f''' cantidad a invertir = {cantidad_invertir}\n",
    "interes anual = {i_anual}\n",
    "números de años = {n_anios}\n",
    "capital = {capital}''')\n"
   ]
  },
  {
   "cell_type": "markdown",
   "metadata": {},
   "source": [
    "### Ejercicio 10\n",
    "Una juguetería tiene mucho éxito en dos de sus productos: payasos y muñecas. Suele hacer venta por correo y la empresa de logística les cobra por peso de cada paquete así que deben calcular el peso de los payasos y muñecas que saldrán en cada paquete a demanda. Cada payaso pesa 112 g y cada muñeca 75 g. Escribir un programa que lea el número de payasos y muñecas vendidos en el último pedido y calcule el peso total del paquete que será enviado."
   ]
  },
  {
   "cell_type": "code",
   "execution_count": 19,
   "metadata": {},
   "outputs": [
    {
     "name": "stdout",
     "output_type": "stream",
     "text": [
      "peso en kg = 1.16 kg\n",
      "peso en g = 1160\n"
     ]
    }
   ],
   "source": [
    "# Solución\n",
    "# número de payasos y muñecas es entero\n",
    "payasos = int(input(\"Ingresa el número de payasos vendidos: \"))\n",
    "muniecas = int(input(\"Ingresa el número de muñecas vendidos: \"))\n",
    "# peso total\n",
    "peso_t = 112*payasos + 75*muniecas\n",
    "# mostrar resultado\n",
    "print(f'''peso en kg = {peso_t/1000} kg\n",
    "peso en g = {peso_t}''')"
   ]
  },
  {
   "cell_type": "markdown",
   "metadata": {},
   "source": [
    "### Ejercicio 11\n",
    "Imagina que acabas de abrir una nueva cuenta de ahorros que te ofrece el 4% de interés al año. Estos ahorros se cobran hasta finales de año. Escribir un programa que comience leyendo la cantidad de dinero depositada en la cuenta de ahorros, introducida por el usuario. Después el programa debe calcular y mostrar por pantalla la cantidad de ahorros tras el primer, segundo y tercer años. Redondear cada cantidad a dos decimales."
   ]
  },
  {
   "cell_type": "code",
   "execution_count": 31,
   "metadata": {},
   "outputs": [
    {
     "name": "stdout",
     "output_type": "stream",
     "text": [
      "cantidad depositada = $100.0\n",
      "primer año = $104.0\n",
      "segundo año = $108.16\n",
      "tercer año = 112.49\n"
     ]
    }
   ],
   "source": [
    "# Solución\n",
    "# cantidad depositada en reales\n",
    "cantidad_depositada = float(input(\"Ingresa la cantidad a depositar $\"))\n",
    "# cantidad de ahorro con cantidad de positada  \n",
    "primer_anio = cantidad_depositada*0.04 + cantidad_invertir\n",
    "segundo_anio = primer_anio*0.04 + primer_anio\n",
    "tercer_anio = segundo_anio*0.04 + segundo_anio\n",
    "\n",
    "print(f'''cantidad depositada = ${cantidad_depositada}\n",
    "primer año = ${round(primer_anio,2)}\n",
    "segundo año = ${round(segundo_anio,2)}\n",
    "tercer año = {round(tercer_anio,2)}''')"
   ]
  },
  {
   "cell_type": "markdown",
   "metadata": {},
   "source": [
    "### Ejercicio 12\n",
    "Una panadería vende barras de pan a $3.49 cada una. El pan que no es el día tiene un descuento del 60%. Escribir un programa que comience leyendo el número de barras vendidas que no son del día. Después el programa debe mostrar el precio habitual de una barra de pan, el descuento que se le hace por no ser fresca y el coste final total."
   ]
  },
  {
   "cell_type": "code",
   "execution_count": 37,
   "metadata": {},
   "outputs": [
    {
     "name": "stdout",
     "output_type": "stream",
     "text": [
      "# barras = 136 \n",
      "p-unitario = $3.49\n",
      "descuento = $2.094\n",
      "total = 189.85600000000005\n"
     ]
    }
   ],
   "source": [
    "# Solución\n",
    "# barras de pan en enteros\n",
    "barras = int(input(\"Ingresa el núemro de barras vendidas \"))\n",
    "descuento = 3.49*0.6\n",
    "\n",
    "print(f'''# barras = {barras} \n",
    "p-unitario = ${3.49}\n",
    "descuento = ${descuento}\n",
    "total = {barras*(3.49-descuento)}''')"
   ]
  }
 ],
 "metadata": {
  "kernelspec": {
   "display_name": "Python 3.10.4 64-bit",
   "language": "python",
   "name": "python3"
  },
  "language_info": {
   "codemirror_mode": {
    "name": "ipython",
    "version": 3
   },
   "file_extension": ".py",
   "mimetype": "text/x-python",
   "name": "python",
   "nbconvert_exporter": "python",
   "pygments_lexer": "ipython3",
   "version": "3.10.4"
  },
  "orig_nbformat": 4,
  "vscode": {
   "interpreter": {
    "hash": "9524c4952dd211fec7df7c73b3afac2dbc89a267f70352ce6257a0999e7cce99"
   }
  }
 },
 "nbformat": 4,
 "nbformat_minor": 2
}
