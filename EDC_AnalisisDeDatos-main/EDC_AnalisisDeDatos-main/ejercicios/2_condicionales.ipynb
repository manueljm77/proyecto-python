{
 "cells": [
  {
   "cell_type": "markdown",
   "metadata": {},
   "source": [
    "# Ejercicios: Estructura condicional"
   ]
  },
  {
   "cell_type": "markdown",
   "metadata": {},
   "source": [
    "### Ejercicio 1\n",
    "Escribir un programa que pregunte al usuario su edad y muestre por pantalla si es mayor de edad o no."
   ]
  },
  {
   "cell_type": "code",
   "execution_count": 3,
   "metadata": {},
   "outputs": [
    {
     "name": "stdout",
     "output_type": "stream",
     "text": [
      "eres menor de edad\n"
     ]
    }
   ],
   "source": [
    "# Solución\n",
    "edad=int(input(\"¿cual es tu edad?\"))\n",
    "if edad<18:\n",
    "    print(\"eres menor de edad\")\n",
    "else:\n",
    "    print(\"eres mayor de edad \")\n",
    "    \n"
   ]
  },
  {
   "cell_type": "markdown",
   "metadata": {},
   "source": [
    "### Ejercicio 2\n",
    "Escribir un programa que almacene una <span style=\"color:#66D9EF\">contraseña</span> en una variable, pregunte al usuario por la <span style=\"color:#66D9EF\">contraseña</span> e imprima por pantalla si la <span style=\"color:#66D9EF\">contraseña</span> introducida por el usuario coincide con la guardada en la variable sin tener en cuenta mayúsculas y minúsculas."
   ]
  },
  {
   "cell_type": "code",
   "execution_count": 8,
   "metadata": {},
   "outputs": [
    {
     "name": "stdout",
     "output_type": "stream",
     "text": [
      "la contraseña coincide\n"
     ]
    }
   ],
   "source": [
    "# Solución\n",
    "contraseña= \"master77\"\n",
    "clave=input(\"introcuce la contraseña\")\n",
    "if contraseña== clave.lower():\n",
    "    print(\"la contraseña coincide\") \n",
    "else:\n",
    "    print (\"la contraseña es invalida\")"
   ]
  },
  {
   "cell_type": "markdown",
   "metadata": {},
   "source": [
    "### Ejercicio 3\n",
    "Escribir un programa que pida al usuario dos números y muestre por pantalla su división. Si el divisor es cero el programa debe mostrar un error."
   ]
  },
  {
   "cell_type": "code",
   "execution_count": 20,
   "metadata": {},
   "outputs": [
    {
     "name": "stdout",
     "output_type": "stream",
     "text": [
      "5.0\n"
     ]
    }
   ],
   "source": [
    "# Solución\n",
    "n=float(input(\"coloca el divisor\"))\n",
    "m=float(input(\"coloca el dividendo\" ))\n",
    "if m==0:\n",
    "    print(\"error\")\n",
    "else: \n",
    "    print(n/m)\n",
    "    \n",
    "\n",
    "\n",
    "\n"
   ]
  },
  {
   "cell_type": "markdown",
   "metadata": {},
   "source": [
    "### Ejercicio 4\n",
    "Escribir un programa que pida al usuario un número entero y muestre por pantalla si es par o impar."
   ]
  },
  {
   "cell_type": "code",
   "execution_count": 33,
   "metadata": {},
   "outputs": [
    {
     "name": "stdout",
     "output_type": "stream",
     "text": [
      "es impar3es impar\n"
     ]
    }
   ],
   "source": [
    "# Solución\n",
    "\n",
    "\n",
    "n=int(input(\"coloca un numero par\"))\n",
    "if n % 2 == 0:\n",
    "    print(\"es numero par\"+str (n)+\"es par\") \n",
    "else:\n",
    "    print(\"es impar\" +str(n)+\"es impar\")"
   ]
  },
  {
   "cell_type": "markdown",
   "metadata": {},
   "source": [
    "### Ejercicio 5\n",
    "Para pagar un determinado impuesto se debe ser mayor de 16 años y tener unos ingresos iguales o superiores a $5000 mensuales. Escribir un programa que pregunte al usuario su edad y sus ingresos mensuales y muestre por pantalla si el usuario tiene que pagar o no."
   ]
  },
  {
   "cell_type": "code",
   "execution_count": 47,
   "metadata": {},
   "outputs": [
    {
     "name": "stdout",
     "output_type": "stream",
     "text": [
      "pagar\n"
     ]
    }
   ],
   "source": [
    "# Solución\n",
    "edad=int(input(\"¿cuales tu edad?\"))\n",
    "ingresos=float(input(\"¿cuales son tus ingresos?\"))\n",
    "if edad > 16 and ingresos >=6000:\n",
    "    print(\"pagar\")\n",
    "else:\n",
    "    print (\"rechazado\")\n"
   ]
  },
  {
   "cell_type": "markdown",
   "metadata": {},
   "source": [
    "### Ejercicio 6\n",
    "Los alumnos de un curso se han dividido en dos grupos A y B de acuerdo al sexo y el nombre. El grupo A esta formado por las mujeres con un nombre anterior a la M y los hombres con un nombre posterior a la N y el grupo B por el resto. Escribir un programa que pregunte al usuario su nombre y sexo, y muestre por pantalla el grupo que le corresponde."
   ]
  },
  {
   "cell_type": "code",
   "execution_count": 7,
   "metadata": {},
   "outputs": [],
   "source": [
    "# Solución      \n",
    "nombre=(input(\"¿cual es tu nombre?\"))\n",
    "genero=(input(\"¿cual es tu genero (M o H)?\")) \n",
    "if genero==\"M\":\n",
    "    if nombre.lower()< \"m\":\n",
    "        grupo =\"A\"\n",
    "    else:\n",
    "        grupo=\"B\"\n",
    "        \n",
    "        \n",
    "        if nombre.lower()> \"n\":\n",
    "            grupo=\"A\" \n",
    "        else :\n",
    "            grupo=\"B\"\n",
    "        print(\"tu grupo es\"+ str + grupo )\n",
    "        \n"
   ]
  },
  {
   "cell_type": "markdown",
   "metadata": {},
   "source": [
    "### Ejercicio 7\n",
    "Los alumnos de un curso se han dividido en dos grupos A y B de acuerdo al sexo y el nombre. El grupo A esta formado por las mujeres con un nombre anterior a la M y los hombres con un nombre posterior a la N y el grupo B por el resto. Escribir un programa que pregunte al usuario su nombre y sexo, y muestre por pantalla el grupo que le corresponde.  \n",
    "<center>\n",
    "\n",
    "|Nivel|Puntuación|\n",
    "|:-:|:-:|\n",
    "|Inaceptable|0.0|\n",
    "|Inaceptable|0.4|\n",
    "|Inaceptable|0.6 o más|\n",
    "\n",
    "</center>\n",
    "Escribir un programa que lea la puntuación del usuario e indique su nivel de rendimiento, así como la cantidad de dinero que recibirá el usuario."
   ]
  },
  {
   "cell_type": "code",
   "execution_count": null,
   "metadata": {},
   "outputs": [],
   "source": [
    "# Solución"
   ]
  },
  {
   "cell_type": "markdown",
   "metadata": {},
   "source": [
    "### Ejercicio 8\n",
    "Escribir un programa para una empresa que tiene salas de juegos para todas las edades y quiere calcular de forma automática el precio que debe cobrar a sus clientes por entrar. El programa debe preguntar al usuario la edad del cliente y mostrar el precio de la entrada. Si el cliente es menor de 4 años puede entrar gratis, si tiene entre 4 y 18 años debe pagar $5 y si es mayor de 18 años, $10."
   ]
  },
  {
   "cell_type": "code",
   "execution_count": null,
   "metadata": {},
   "outputs": [],
   "source": [
    "# Solución"
   ]
  },
  {
   "cell_type": "markdown",
   "metadata": {},
   "source": [
    "### Ejercicio 9\n",
    "La pizzería Planeta ofrece pizzas vegetarianas y no vegetarianas a sus clientes. Los ingredientes para cada tipo de pizza aparecen a continuación.  \n",
    "\n",
    "* Vegetarianos: Pimiento y tofu.  \n",
    "* No vegetarianos: Peperoni, Jamón y Salmón.  \n",
    "\n",
    "Escribir un programa que pregunte al usuario si quiere una pizza vegetariana o no, y en función de su respuesta le muestre un menú con los ingredientes disponibles para que elija. Solo se puede eligir un ingrediente además de la mozzarella y el tomate que están en todas la pizzas. Al final se debe mostrar por pantalla si la pizza elegida es vegetariana o no y todos los ingredientes que lleva.\n",
    "\n",
    "\n"
   ]
  },
  {
   "cell_type": "code",
   "execution_count": null,
   "metadata": {},
   "outputs": [],
   "source": [
    "# Solución"
   ]
  }
 ],
 "metadata": {
  "kernelspec": {
   "display_name": "Python 3.10.6 64-bit",
   "language": "python",
   "name": "python3"
  },
  "language_info": {
   "codemirror_mode": {
    "name": "ipython",
    "version": 3
   },
   "file_extension": ".py",
   "mimetype": "text/x-python",
   "name": "python",
   "nbconvert_exporter": "python",
   "pygments_lexer": "ipython3",
   "version": "3.10.6"
  },
  "orig_nbformat": 4,
  "vscode": {
   "interpreter": {
    "hash": "56d05bf69abc7ebc63cd075b7c31a02b1b71d58b73862816285cbc9839801097"
   }
  }
 },
 "nbformat": 4,
 "nbformat_minor": 2
}
