{
 "cells": [
  {
   "cell_type": "markdown",
   "metadata": {},
   "source": [
    "# Ejercicios: Estructuras iterativas\n",
    "\n"
   ]
  },
  {
   "cell_type": "markdown",
   "metadata": {},
   "source": [
    "### Ejercicio 1\n",
    "Calcular la media de los números pares e impares, sólo se ingresará diez números."
   ]
  },
  {
   "cell_type": "code",
   "execution_count": 6,
   "metadata": {},
   "outputs": [
    {
     "name": "stdout",
     "output_type": "stream",
     "text": [
      "PARES E IMPARES\n",
      "El número 5 es impar.\n",
      "El número 6 es par.\n",
      "El número 7 es impar.\n",
      "El número 8 es par.\n",
      "El número 9 es impar.\n"
     ]
    }
   ],
   "source": [
    "def main():\n",
    "    print(\"PARES E IMPARES\")\n",
    "    numero_1 = int(input(\"Escriba un número entero: \"))\n",
    "    numero_2 = int(input(f\"Escriba un número entero mayor o igual que {numero_1}: \"))\n",
    "\n",
    "    if numero_2 < numero_1:\n",
    "        print(f\"¡Le he pedido un número entero mayor o igual que {numero_1}!\")\n",
    "    else:\n",
    "        for i in range(numero_1, numero_2 + 1):\n",
    "            if i % 2 == 0:\n",
    "                print(f\"El número {i} es par.\")\n",
    "            else:\n",
    "                print(f\"El número {i} es impar.\")\n",
    "\n",
    "\n",
    "if __name__ == \"__main__\":\n",
    "    main()"
   ]
  },
  {
   "cell_type": "markdown",
   "metadata": {},
   "source": [
    "### Ejercicio 2\n",
    "Calcular la suma de los n primeros números."
   ]
  },
  {
   "cell_type": "code",
   "execution_count": null,
   "metadata": {},
   "outputs": [],
   "source": [
    "# Solución"
   ]
  },
  {
   "cell_type": "markdown",
   "metadata": {},
   "source": [
    "### Ejercicio 3\n",
    "Se quiere saber cuál es la ciudad con la población de más personas, son tres estados  con once ciudades, hacer un algoritmo que nos permita saber eso."
   ]
  },
  {
   "cell_type": "code",
   "execution_count": null,
   "metadata": {},
   "outputs": [],
   "source": [
    "# Solución"
   ]
  },
  {
   "cell_type": "markdown",
   "metadata": {},
   "source": [
    "### Ejercicio 4\n",
    "Imprimir las tablas de multiplicar de los números del uno al nueve."
   ]
  },
  {
   "cell_type": "code",
   "execution_count": null,
   "metadata": {},
   "outputs": [],
   "source": [
    "# Solución"
   ]
  },
  {
   "cell_type": "markdown",
   "metadata": {},
   "source": [
    "### Ejercicio 5\n",
    "Calcular el factorial de un número."
   ]
  },
  {
   "cell_type": "code",
   "execution_count": 5,
   "metadata": {},
   "outputs": [
    {
     "name": "stdout",
     "output_type": "stream",
     "text": [
      "Factorial of 8 is 40320\n"
     ]
    }
   ],
   "source": [
    "# Solucióndef factorial(n): \n",
    "def factorial(num): \n",
    "    if num < 0: \n",
    "        print(\"Factorial of negative num does not exist\")\n",
    "\n",
    "    elif num == 0: \n",
    "        return 1\n",
    "        \n",
    "    else: \n",
    "        fact = 1\n",
    "        while(num > 1): \n",
    "            fact *= num \n",
    "            num -= 1\n",
    "        return fact \n",
    "\n",
    "num = 8; \n",
    "\n",
    "print(\"Factorial of\",num,\"is\", factorial(num)) "
   ]
  },
  {
   "cell_type": "markdown",
   "metadata": {},
   "source": [
    "### Ejercicio 6\n",
    "Hacer un algoritmo que nos diga si un número es primo."
   ]
  },
  {
   "cell_type": "code",
   "execution_count": 17,
   "metadata": {},
   "outputs": [
    {
     "name": "stdout",
     "output_type": "stream",
     "text": [
      "It is a prime number\n"
     ]
    }
   ],
   "source": [
    "k = 5\n",
    "\n",
    "if k > 1:\n",
    "    for i in range(2, int(k/2)+1):\n",
    "         if (k % i) == 0:\n",
    "            print(\"It is not a prime number\")\n",
    "            break\n",
    "    else:\n",
    "        print(\"It is a prime number\")\n",
    "\n",
    "else:\n",
    "    print(\"It is not a prime number\")"
   ]
  },
  {
   "cell_type": "markdown",
   "metadata": {},
   "source": [
    "### Ejercicio 7\n",
    "Hacer un algoritmo que nos imprima los números primos en el rango [2,N]."
   ]
  },
  {
   "cell_type": "code",
   "execution_count": null,
   "metadata": {},
   "outputs": [],
   "source": [
    "# Solución"
   ]
  },
  {
   "cell_type": "markdown",
   "metadata": {},
   "source": [
    "### Ejercicio 8\n",
    "Hacer un algoritmo que nos permita saber cuál es el número mayor y menor, se debe ingresar sólo veinte números."
   ]
  },
  {
   "cell_type": "code",
   "execution_count": null,
   "metadata": {},
   "outputs": [],
   "source": [
    "# Solución"
   ]
  },
  {
   "cell_type": "markdown",
   "metadata": {},
   "source": [
    "### Ejercicio 9\n",
    "Hacer un algoritmo para calcular la serie de Fibonacci."
   ]
  },
  {
   "cell_type": "code",
   "execution_count": 8,
   "metadata": {},
   "outputs": [
    {
     "name": "stdout",
     "output_type": "stream",
     "text": [
      "0\n",
      "1\n",
      "1\n",
      "2\n",
      "3\n",
      "5\n",
      "8\n",
      "13\n"
     ]
    }
   ],
   "source": [
    "# Soluciónfrom math import sqrt\n",
    "def fibonacci_iter(n):\n",
    "    a=1\n",
    "    b=1\n",
    "    if n==1:\n",
    "        print('0')\n",
    "    elif n==2:\n",
    "        print('0','1')\n",
    "    else:\n",
    "        print('0')\n",
    "        print(a)\n",
    "        print(b)\n",
    "        for i in range(n-3):\n",
    "            total = a + b\n",
    "            b=a\n",
    "            a= total\n",
    "            print(total)\n",
    "         \n",
    "fibonacci_iter(8)"
   ]
  },
  {
   "cell_type": "markdown",
   "metadata": {},
   "source": [
    "### Ejercicio 10\n",
    "Hacer un algoritmo para conseguir el M.C.D de un número por medio del algoritmo de Euclides."
   ]
  },
  {
   "cell_type": "code",
   "execution_count": null,
   "metadata": {},
   "outputs": [],
   "source": [
    "# Solución"
   ]
  }
 ],
 "metadata": {
  "kernelspec": {
   "display_name": "Python 3.10.6 64-bit",
   "language": "python",
   "name": "python3"
  },
  "language_info": {
   "codemirror_mode": {
    "name": "ipython",
    "version": 3
   },
   "file_extension": ".py",
   "mimetype": "text/x-python",
   "name": "python",
   "nbconvert_exporter": "python",
   "pygments_lexer": "ipython3",
   "version": "3.10.6"
  },
  "orig_nbformat": 4,
  "vscode": {
   "interpreter": {
    "hash": "56d05bf69abc7ebc63cd075b7c31a02b1b71d58b73862816285cbc9839801097"
   }
  }
 },
 "nbformat": 4,
 "nbformat_minor": 2
}
