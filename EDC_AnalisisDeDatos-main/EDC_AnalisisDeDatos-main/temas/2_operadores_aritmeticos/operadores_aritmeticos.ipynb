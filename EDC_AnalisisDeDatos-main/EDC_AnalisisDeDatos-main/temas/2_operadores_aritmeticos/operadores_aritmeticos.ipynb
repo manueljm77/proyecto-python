{
 "cells": [
  {
   "cell_type": "markdown",
   "metadata": {},
   "source": [
    "#  Operadores aritméticos"
   ]
  },
  {
   "cell_type": "markdown",
   "metadata": {},
   "source": [
    "Los operadores aritméticos son los más comunes que nos podemos encontrar, y nos permiten realizar operaciones aritméticas sencillas, como pueden ser la suma, resta o exponente.  \n",
    "ejemplo, donde x=10 y y=3.\n",
    "<center>\n",
    "\n",
    "|Operador|Nombre|Ejemplo|\n",
    "|:-:|:-:|:-:|\n",
    "|+|suma|x + y = 13|\n",
    "|-|resta|x - y = 7|\n",
    "|\\*|multiplicación| x \\* y = 30|\n",
    "|/|división|x / y = 3.33|\n",
    "|%|módulo|x % y = 1|\n",
    "|\\*\\*|exponente|x \\*\\* y = 100|\n",
    "|//|cociente|x // y = 3|\n",
    "\n",
    "</center>"
   ]
  },
  {
   "cell_type": "markdown",
   "metadata": {},
   "source": [
    "#### Operador +\n",
    "El operador + suma los números presentes a la izquierda y derecha del operador. Recalcamos lo de números porque no tendría sentido sumar dos cadenas de texto, o dos listas, pero en Python es posible hacer este tipo de cosas."
   ]
  },
  {
   "cell_type": "code",
   "execution_count": null,
   "metadata": {},
   "outputs": [],
   "source": [
    "print(10 + 3) \n",
    "''' Es posible sumar también dos cadenas de texto, pero la suma no será aritmética, \n",
    "sino que se unirán ambas cadenas en una. También se pueden sumar dos listas, \n",
    "cuyo resultado es la unión de ambas.'''\n",
    "print(\"2\" + \"2\")       \n",
    "print([1, 3] + [6, 7]) "
   ]
  },
  {
   "cell_type": "markdown",
   "metadata": {},
   "source": [
    "#### Operador -\n",
    "El operador - resta los números presentes a la izquierda y derecha del operador. A diferencia el operador + en este caso no podemos restar cadenas o listas."
   ]
  },
  {
   "cell_type": "code",
   "execution_count": null,
   "metadata": {},
   "outputs": [],
   "source": [
    "print(10 - 3)"
   ]
  },
  {
   "cell_type": "markdown",
   "metadata": {},
   "source": [
    "### Operador *\n",
    "El operador * multiplica los números presentes a la izquierda y derecha del operador."
   ]
  },
  {
   "cell_type": "code",
   "execution_count": 1,
   "metadata": {},
   "outputs": [
    {
     "name": "stdout",
     "output_type": "stream",
     "text": [
      "30\n",
      "HolaHolaHola\n"
     ]
    }
   ],
   "source": [
    "\n",
    "print(10 * 3)\n",
    "# Como también pasaba con el operador + podemos hacer cosas “raras” con *. \n",
    "# Explicar porque pasan estas cosas es un poquito más complejo, por lo que lo \n",
    "# dejamos para otro capítulo, donde explicaremos como definir el comportamiento \n",
    "# de determinados operadores para nuestras clases.\n",
    "print(\"Hola\" * 3)"
   ]
  },
  {
   "cell_type": "markdown",
   "metadata": {},
   "source": [
    "#### Operador /\n",
    "El operador / divide los números presentes a la izquierda y derecha del operador. Un aspecto importante a tener en cuenta es que si realizamos una división cuyo resultado no es entero (es decimal) podríamos tener problemas. En Python 3 esto no supone un problema porque el mismo se encarga de convertir los números y el resultado que se muestra si es decimal.\n",
    "\n"
   ]
  },
  {
   "cell_type": "code",
   "execution_count": null,
   "metadata": {},
   "outputs": [],
   "source": [
    "print(10/3) #3.3333333333333335\n",
    "print(1/2)  #0.5"
   ]
  },
  {
   "cell_type": "markdown",
   "metadata": {},
   "source": [
    "#### Operador %\n",
    "El operador % realiza la operación módulo entre los números presentes a la izquierda y la derecha. Se trata de calcular el resto de la división entera entre ambos números. Es decir, si dividimos 10 entre 3, el cociente sería 3 y el resto 1. Ese resto es lo que calcula el módulo."
   ]
  },
  {
   "cell_type": "code",
   "execution_count": null,
   "metadata": {},
   "outputs": [],
   "source": [
    "print(10%3) # 1\n",
    "print(10%2) # 0"
   ]
  },
  {
   "cell_type": "markdown",
   "metadata": {},
   "source": [
    "#### Operador **\n",
    "El operador ** realiza el exponente del número a la izquierda elevado al número de la derecha.\n",
    "\n"
   ]
  },
  {
   "cell_type": "code",
   "execution_count": null,
   "metadata": {},
   "outputs": [],
   "source": [
    "print(10**3)\n",
    "print(2**2)\n",
    "\n",
    "# En esta librería también tenemos una función llamada pow() que es equivalente al operador **.\n",
    "import math\n",
    "print(math.pow(10, 3)) "
   ]
  },
  {
   "cell_type": "markdown",
   "metadata": {},
   "source": [
    "#### Operador //\n",
    "Por último, el operador // calcula el cociente de la división entre los números que están a su izquierda y derecha."
   ]
  },
  {
   "cell_type": "code",
   "execution_count": 2,
   "metadata": {},
   "outputs": [
    {
     "name": "stdout",
     "output_type": "stream",
     "text": [
      "3\n",
      "1\n",
      "10\n"
     ]
    }
   ],
   "source": [
    "print(10//3)  \n",
    "print(10//10)\n",
    "\n",
    "# Tal vez te hayas dado cuenta que el operador cociente // está muy relacionado \n",
    "# con el operador módulo %. Volviendo a las lecciones del colegio sobre la división, \n",
    "# recordaremos que el Dividendo D es igual al divisor d multiplicado por \n",
    "# el cociente c y sumado al resto r, es decir D=d*c+r. \n",
    "# Se puede ver como en el siguiente ejemplo, 10//3 es el cociente y 10%3 es el resto. \n",
    "# Al aplicar la fórmula, verificamos que efectivamente 10 era el dividendo.\n",
    "\n",
    "D = 10 # Número que queremos dividir\n",
    "d = 3  # Número entre el que queremos dividir\n",
    "print(3 * (10//3) + 10%3) \n"
   ]
  },
  {
   "cell_type": "markdown",
   "metadata": {},
   "source": [
    "#### Orden de evaluación\n",
    "Es muy importante tener en cuenta las prioridades de cada operador y cual se aplica primero. Ante la duda siempre podemos usar paréntesis, ya que todo lo que está dentro de un paréntesis se evaluará conjuntamente, pero es importante saber las prioridades.\n",
    "\n",
    "El orden de prioridad sería el siguiente para los operadores aritméticos, siendo el primero el de mayor prioridad:\n",
    "<center>\n",
    "\n",
    "|Operador|Evaluación|\n",
    "|:-:|:-:|\n",
    "|()|1|\n",
    "|**|2|\n",
    "|-|3|\n",
    "|*|4|\n",
    "|/|4|\n",
    "|//|4|\n",
    "|%|4|\n",
    "|+|5|\n",
    "|-|5|\n",
    "\n",
    "</center>"
   ]
  },
  {
   "cell_type": "code",
   "execution_count": null,
   "metadata": {},
   "outputs": [],
   "source": [
    "print(10*(5+3)) # Con paréntesis se realiza primero la suma\n",
    "print(10*5+3)   # Sin paréntesis se realiza primero la multiplicación\n",
    "print(3*3+2/5+5%4) # Primero se multiplica y divide, después se suma\n",
    "print(-2**4)       # Primero se hace la potencia, después se aplica el signo"
   ]
  }
 ],
 "metadata": {
  "kernelspec": {
   "display_name": "Python 3.10.4 64-bit",
   "language": "python",
   "name": "python3"
  },
  "language_info": {
   "codemirror_mode": {
    "name": "ipython",
    "version": 3
   },
   "file_extension": ".py",
   "mimetype": "text/x-python",
   "name": "python",
   "nbconvert_exporter": "python",
   "pygments_lexer": "ipython3",
   "version": "3.10.4"
  },
  "orig_nbformat": 4,
  "vscode": {
   "interpreter": {
    "hash": "9524c4952dd211fec7df7c73b3afac2dbc89a267f70352ce6257a0999e7cce99"
   }
  }
 },
 "nbformat": 4,
 "nbformat_minor": 2
}
