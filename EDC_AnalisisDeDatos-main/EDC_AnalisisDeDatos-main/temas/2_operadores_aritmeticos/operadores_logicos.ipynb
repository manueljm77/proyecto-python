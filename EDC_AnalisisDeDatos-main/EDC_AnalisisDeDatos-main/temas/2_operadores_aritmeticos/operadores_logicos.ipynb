{
 "cells": [
  {
   "cell_type": "markdown",
   "metadata": {},
   "source": [
    "# Operadores lógicos\n",
    "Los operadores lógicos nos permiten trabajar con valores de tipo booleano. Un valor booleano o bool es un tipo que solo puede tomar valores True o False. Por lo tanto, estos operadores nos permiten realizar diferentes operaciones con estos tipos, y su resultado será otro booleano.\n",
    "\n",
    "|Operador|Descripción|Ejemplo|\n",
    "|:-:|:-:|:-:|\n",
    "|and|Devuelve True si ambos elementos son True|\tTrue and True = True|\n",
    "|or|Devuelve True si al menos un elemento es True|\tTrue or False = True|\n",
    "|not|Devuelve el contrario, True si es Falso y viceversa|\tnot True = False|"
   ]
  },
  {
   "cell_type": "markdown",
   "metadata": {},
   "source": [
    "#### Operador and\n",
    "El operador and evalúa si el valor a la izquierda y el de la derecha son True, y en el caso de ser cierto, devuelve True. Si uno de los dos valores es False, el resultado será False.\n"
   ]
  },
  {
   "cell_type": "code",
   "execution_count": null,
   "metadata": {},
   "outputs": [],
   "source": [
    "print(True and True)  \n",
    "print(True and False) \n",
    "print(False and True) \n",
    "print(False and False)"
   ]
  },
  {
   "cell_type": "markdown",
   "metadata": {},
   "source": [
    "#### Operador or\n",
    "El operador or devuelve True cuando al menos uno de los elementos es igual a True. Es decir, evalúa si el valor a la izquierda o el de la derecha son True."
   ]
  },
  {
   "cell_type": "code",
   "execution_count": null,
   "metadata": {},
   "outputs": [],
   "source": [
    "print(True or True)   \n",
    "print(True or False)  \n",
    "print(False or True)  \n",
    "print(False or False) "
   ]
  },
  {
   "cell_type": "markdown",
   "metadata": {},
   "source": [
    "Es importante notar que varios operadores pueden ser usados conjuntamente, y salvo que existan paréntesis que indiquen una cierta prioridad, el primer operador que se evaluará será el and. \n",
    "\n",
    "```python\n",
    "print(True and True and False)\n",
    "#     |-----------|\n",
    "#           True  and  False\n",
    "#         |------------------|\n",
    "#                False\n",
    "```\n",
    "\n",
    "También podemos mezclar los operadores. \n",
    "\n",
    "```python\n",
    "print(False and True or True or False)\n",
    "#     False and True = False\n",
    "#               Fase or True = True\n",
    "#                       True or False = True\n",
    "# True\n",
    "```"
   ]
  },
  {
   "cell_type": "markdown",
   "metadata": {},
   "source": [
    "#### Operador not\n",
    "Y por último tenemos el operador not, que simplemente invierte True por False y False por True."
   ]
  },
  {
   "cell_type": "code",
   "execution_count": null,
   "metadata": {},
   "outputs": [],
   "source": [
    "\n",
    "print(not True)  # False\n",
    "print(not False) # True\n",
    "print(not not not not True) # True\n",
    "# Dado que estamos tratando con booleanos, hemos considerado que usar True y False es lo mejor y\n",
    "# más claro, pero es totalmente válido emplear 1 y 0 respectivamente para representar ambos estados.\n",
    "# Y por supuesto los resultados no varían\n",
    "\n",
    "print(not 0) # True\n",
    "print(not 1) # False"
   ]
  }
 ],
 "metadata": {
  "kernelspec": {
   "display_name": "Python 3.10.4 64-bit",
   "language": "python",
   "name": "python3"
  },
  "language_info": {
   "codemirror_mode": {
    "name": "ipython",
    "version": 3
   },
   "file_extension": ".py",
   "mimetype": "text/x-python",
   "name": "python",
   "nbconvert_exporter": "python",
   "pygments_lexer": "ipython3",
   "version": "3.10.4"
  },
  "orig_nbformat": 4,
  "vscode": {
   "interpreter": {
    "hash": "9524c4952dd211fec7df7c73b3afac2dbc89a267f70352ce6257a0999e7cce99"
   }
  }
 },
 "nbformat": 4,
 "nbformat_minor": 2
}
