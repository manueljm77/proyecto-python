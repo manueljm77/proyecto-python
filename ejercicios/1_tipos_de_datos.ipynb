{
 "cells": [
  {
   "cell_type": "markdown",
   "metadata": {},
   "source": [
    "# Ejercicios de Tipos de Datos Simples"
   ]
  },
  {
   "cell_type": "markdown",
   "metadata": {},
   "source": [
    "### Ejercicio 1\n",
    "Escribir un programa que muestre por pantalla la cadena <span style=\"color:#66D9EF\">¡Hola Mundo!</span>."
   ]
  },
  {
   "cell_type": "code",
   "execution_count": null,
   "metadata": {},
   "outputs": [],
   "source": [
    "# Solución\n",
    "print (\"hola mundo\")"
   ]
  },
  {
   "cell_type": "markdown",
   "metadata": {},
   "source": [
    "### Ejercicio 2\n",
    "Escribir un programa que almacene la cadena <span style=\"color:#66D9EF\">¡Hola Mundo!</span> en una variable y luego muestre por pantalla el contenido de la variable"
   ]
  },
  {
   "cell_type": "code",
   "execution_count": 11,
   "metadata": {},
   "outputs": [
    {
     "name": "stdout",
     "output_type": "stream",
     "text": [
      "hola mundo\n"
     ]
    }
   ],
   "source": [
    "x=\"hola mundo\" \n",
    "print(x)\n"
   ]
  },
  {
   "cell_type": "code",
   "execution_count": null,
   "metadata": {},
   "outputs": [],
   "source": []
  },
  {
   "cell_type": "markdown",
   "metadata": {},
   "source": [
    "### Ejercicio 3\n",
    "Escribir un programa que pregunte el nombre del usuario en la consola y después de que el usuario lo introduzca muestre por pantalla la cadena <span style=\"color:#66D9EF \">¡Hola \\<nombre\\>!</span>, donde <span style=\"color:#66D9EF\">\\<nombre\\></span> es el nombre que el usuario haya introducido."
   ]
  },
  {
   "cell_type": "code",
   "execution_count": 25,
   "metadata": {},
   "outputs": [
    {
     "name": "stdout",
     "output_type": "stream",
     "text": [
      "hola + nombre\n"
     ]
    }
   ],
   "source": [
    "# Soluifción\n",
    "nombre=input(\"introduce tu nombre\")\n",
    "print(\"hola + nombre\")"
   ]
  },
  {
   "cell_type": "markdown",
   "metadata": {},
   "source": [
    "### Ejercicio 4\n",
    "Escribir un programa que muestre por pantalla el resultado de la siguiente operación aritmética:\n",
    "$$ \\left(\\frac{3+2}{2*5}\\right)^2$$"
   ]
  },
  {
   "cell_type": "code",
   "execution_count": 31,
   "metadata": {},
   "outputs": [
    {
     "name": "stdout",
     "output_type": "stream",
     "text": [
      "0.05\n"
     ]
    }
   ],
   "source": [
    "# solución\n",
    "print ((3+2) / (2*5) **2)"
   ]
  },
  {
   "cell_type": "markdown",
   "metadata": {},
   "source": [
    "### Ejercicio 5\n",
    "Escribir un programa que pregunte al usuario por el número de horas trabajadas y el coste por hora. Después debe mostrar por pantalla la paga que le corresponde."
   ]
  },
  {
   "cell_type": "code",
   "execution_count": 33,
   "metadata": {},
   "outputs": [
    {
     "name": "stdout",
     "output_type": "stream",
     "text": [
      "240\n"
     ]
    }
   ],
   "source": [
    "# solución\n",
    "n=int(input(\"poner numero de horas trabajadas\")) \n",
    "numeroDeHoras = 30\n",
    "multiplicacion= n * numeroDeHoras\n",
    "print(multiplicacion)"
   ]
  },
  {
   "cell_type": "markdown",
   "metadata": {},
   "source": [
    "### Ejercicio 6\n",
    "Escribir un programa que lea un entero positivo, _n_, introducido por el usuario y después muestre en pantalla la suma de todos los enteros desde 1 hasta _n_ . La suma de los *n* primeros enteros positivos puede ser calculada de la siguiente forma:  \n",
    "$$suma = \\frac{n(n+1)}{2}$$"
   ]
  },
  {
   "cell_type": "code",
   "execution_count": 42,
   "metadata": {},
   "outputs": [
    {
     "name": "stdout",
     "output_type": "stream",
     "text": [
      "41.0\n"
     ]
    }
   ],
   "source": [
    "# solución\n",
    "n=int(input(\"coloca un numero\"))\n",
    "print ((n*n+1)/(2))"
   ]
  },
  {
   "cell_type": "markdown",
   "metadata": {},
   "source": [
    "### Ejercicio 7\n",
    "Escribir un programa que pida al usuario su peso (en kg) y estatura (en metros), calcule el índice de masa corporal y lo almacene en una variable, y muestre por pantalla la frase Tu índice de masa corporal es <span style=\"color:#66D9EF\">imc</span> donde <span style=\"color:#66D9EF\">imc</span> es el índice de masa corporal calculado redondeado con dos decimales."
   ]
  },
  {
   "cell_type": "code",
   "execution_count": 1,
   "metadata": {},
   "outputs": [
    {
     "name": "stdout",
     "output_type": "stream",
     "text": [
      "tu indice de masa corporal es de21.91\n"
     ]
    }
   ],
   "source": [
    " #solución \n",
    "peso= input(\"¿cual es su peso en kg?\") \n",
    "estatura= input(\"¿cual es su estarura en metros?\") \n",
    "imc=round(float(peso)/float(estatura)**2,2)\n",
    "print(\"tu indice de masa corporal es de\" + str(imc))\n"
   ]
  },
  {
   "cell_type": "markdown",
   "metadata": {},
   "source": [
    "### Ejercicio 8\n",
    "Escribir un programa que pida al usuario dos números enteros y muestre por pantalla la <span style=\"color:#66D9EF \">n</span> entre <span style=\"color:#66D9EF \">m</span> da un cociente <span style=\"color:#66D9EF \">c</span> y un resto <span style=\"color:#66D9EF \">r</span> donde <span style=\"color:#66D9EF \">n y m</span> son los números introducidos por el usuario, y <span style=\"color:#66D9EF \">c y r</span> son el cociente y el resto de la división entera respectivamente."
   ]
  },
  {
   "cell_type": "code",
   "execution_count": 2,
   "metadata": {},
   "outputs": [
    {
     "name": "stdout",
     "output_type": "stream",
     "text": [
      "8 entre 16 da un cociente 0 y un resto 8\n"
     ]
    }
   ],
   "source": [
    "# solución\n",
    "n = input(\"Introduce el dividendo (entero): \")\n",
    "m = input(\"Introduce el divisor (entero): \")\n",
    "print(n + \" entre \" +  m + \" da un cociente \" + str(int(n) // int(m)) + \" y un resto \" + str(int(n) % int(m)))"
   ]
  },
  {
   "cell_type": "markdown",
   "metadata": {},
   "source": [
    "### Ejercicio 9\n",
    "Escribir un programa que pregunte al usuario una cantidad a invertir, el interés anual y el número de años, y muestre por pantalla el capital obtenido en la inversión."
   ]
  },
  {
   "cell_type": "code",
   "execution_count": 3,
   "metadata": {},
   "outputs": [
    {
     "name": "stdout",
     "output_type": "stream",
     "text": [
      "Capital final: 2.01\n"
     ]
    }
   ],
   "source": [
    "# Solución\n",
    "cantidad = float(input(\"¿Cantidad a invertir? \"))\n",
    "interes = float(input(\"¿Interés porcentual anual? \"))\n",
    "años = int(input(\"¿Años?\"))\n",
    "print(\"Capital final: \" + str(round(cantidad * (interes / 100 + 1) ** años, 2)))"
   ]
  },
  {
   "cell_type": "markdown",
   "metadata": {},
   "source": [
    "### Ejercicio 10\n",
    "Una juguetería tiene mucho éxito en dos de sus productos: payasos y muñecas. Suele hacer venta por correo y la empresa de logística les cobra por peso de cada paquete así que deben calcular el peso de los payasos y muñecas que saldrán en cada paquete a demanda. Cada payaso pesa 112 g y cada muñeca 75 g. Escribir un programa que lea el número de payasos y muñecas vendidos en el último pedido y calcule el peso total del paquete que será enviado."
   ]
  },
  {
   "cell_type": "code",
   "execution_count": 4,
   "metadata": {},
   "outputs": [
    {
     "name": "stdout",
     "output_type": "stream",
     "text": [
      "El peso total del paquete es 1235\n"
     ]
    }
   ],
   "source": [
    "# Solución\n",
    "peso_payaso = 112\n",
    "peso_muñeca = 75\n",
    "payasos = int(input(\"Introduce el número de payasos a enviar: \"))\n",
    "muñecas = int(input(\"Introduce el número de muñecas a enviar: \"))\n",
    "peso_total = peso_payaso * payasos + peso_muñeca * muñecas\n",
    "print(\"El peso total del paquete es \" + str(peso_total))"
   ]
  },
  {
   "cell_type": "markdown",
   "metadata": {},
   "source": [
    "### Ejercicio 11\n",
    "Imagina que acabas de abrir una nueva cuenta de ahorros que te ofrece el 4% de interés al año. Estos ahorros se cobran hasta finales de año. Escribir un programa que comience leyendo la cantidad de dinero depositada en la cuenta de ahorros, introducida por el usuario. Después el programa debe calcular y mostrar por pantalla la cantidad de ahorros tras el primer, segundo y tercer años. Redondear cada cantidad a dos decimales."
   ]
  },
  {
   "cell_type": "code",
   "execution_count": 6,
   "metadata": {},
   "outputs": [
    {
     "name": "stdout",
     "output_type": "stream",
     "text": [
      "Balance tras el primer año:15.6\n",
      "Balance tras el segundo año:16.22\n",
      "Balance tras el tercer año:16.87\n"
     ]
    }
   ],
   "source": [
    "# Solución\n",
    "inversion = float(input(\"Introduce la inversión inicial: \"))\n",
    "interes = 0.04\n",
    "balance1 = inversion * (1 + interes)\n",
    "print(\"Balance tras el primer año:\" + str(round(balance1, 2)))\n",
    "balance2 = balance1 * (1 + interes)\n",
    "print(\"Balance tras el segundo año:\" + str(round(balance2, 2)))\n",
    "balance3 = balance2 * (1 + interes)\n",
    "print(\"Balance tras el tercer año:\" + str(round(balance3, 2)))"
   ]
  },
  {
   "cell_type": "markdown",
   "metadata": {},
   "source": [
    "### Ejercicio 12\n",
    "Una panadería vende barras de pan a $3.49 cada una. El pan que no es el día tiene un descuento del 60%. Escribir un programa que comience leyendo el número de barras vendidas que no son del día. Después el programa debe mostrar el precio habitual de una barra de pan, el descuento que se le hace por no ser fresca y el coste final total."
   ]
  },
  {
   "cell_type": "code",
   "execution_count": 7,
   "metadata": {},
   "outputs": [
    {
     "name": "stdout",
     "output_type": "stream",
     "text": [
      "El coste de una barra fresca es 3.49€\n",
      "El descuento sobre una barra no fresca es 60.0%\n",
      "El coste final a pagar es 20.94€\n"
     ]
    }
   ],
   "source": [
    "# Solución\n",
    "barras = int(input(\"Introduce el número de barras vendidas que no son frescas: \"))\n",
    "precio = 3.49 \n",
    "descuento = 0.6\n",
    "coste = barras * precio * (1 - descuento)\n",
    "print(\"El coste de una barra fresca es \" + str(precio) + \"€\")\n",
    "print(\"El descuento sobre una barra no fresca es \" + str(descuento * 100) + \"%\")\n",
    "print(\"El coste final a pagar es \" + str(round(coste, 2)) + \"€\")"
   ]
  }
 ],
 "metadata": {
  "kernelspec": {
   "display_name": "Python 3.10.6 64-bit",
   "language": "python",
   "name": "python3"
  },
  "language_info": {
   "codemirror_mode": {
    "name": "ipython",
    "version": 3
   },
   "file_extension": ".py",
   "mimetype": "text/x-python",
   "name": "python",
   "nbconvert_exporter": "python",
   "pygments_lexer": "ipython3",
   "version": "3.10.6"
  },
  "orig_nbformat": 4,
  "vscode": {
   "interpreter": {
    "hash": "56d05bf69abc7ebc63cd075b7c31a02b1b71d58b73862816285cbc9839801097"
   }
  }
 },
 "nbformat": 4,
 "nbformat_minor": 2
}
